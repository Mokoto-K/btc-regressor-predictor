{
 "cells": [
  {
   "cell_type": "code",
   "execution_count": 58,
   "id": "73b5efc0-8399-48c4-b59f-2f659af583df",
   "metadata": {},
   "outputs": [],
   "source": [
    "import pandas as pd\n",
    "from sklearn.preprocessing import LabelEncoder\n",
    "from sklearn.model_selection import train_test_split, cross_val_score, cross_val_predict\n",
    "from sklearn.neural_network import MLPClassifier"
   ]
  },
  {
   "cell_type": "code",
   "execution_count": 10,
   "id": "ca30baa0-8c53-4064-a03f-9e8e5aee0d58",
   "metadata": {},
   "outputs": [],
   "source": [
    "# Load our csv as a pandas dataframe\n",
    "btc = pd.read_csv(\"../../Python/side-projects/btc-price-tracker-enhanced/BTCUSDT-D.csv\")"
   ]
  },
  {
   "cell_type": "code",
   "execution_count": 29,
   "id": "99ef1204-a867-4765-8386-5906bc61baf8",
   "metadata": {},
   "outputs": [],
   "source": [
    "# Create our targets for our dataset\n",
    "direction = []\n",
    "for row in range(len(btc)):\n",
    "    if btc[\"close\"][row] > btc[\"open\"][row]:\n",
    "        direction.append(\"long\")\n",
    "    else:\n",
    "        direction.append(\"short\")\n",
    "btc[\"targets\"] = direction"
   ]
  },
  {
   "cell_type": "code",
   "execution_count": 31,
   "id": "7a69fe92-443d-4822-97b8-b3a92996b44e",
   "metadata": {},
   "outputs": [],
   "source": [
    "# Function to calculate the difference from one day to the next of a given column of data\n",
    "def percent_change(dataframe, column_name):\n",
    "\n",
    "    variable = dataframe[column_name]\n",
    "    change = [0]\n",
    "    \n",
    "    for row in range(len(dataframe)):\n",
    "\n",
    "        if row == 0:\n",
    "            continue\n",
    "\n",
    "        difference = round((variable[row] - variable[row - 1]) / variable[row-1] * 100, 2)\n",
    "\n",
    "        if difference > 0:\n",
    "            change.append(1)\n",
    "        else:\n",
    "            change.append(0)\n",
    "        \n",
    "    return change"
   ]
  },
  {
   "cell_type": "code",
   "execution_count": 35,
   "id": "7daa7f29-2dc4-4b99-850b-a5851baa8114",
   "metadata": {},
   "outputs": [
    {
     "data": {
      "text/html": [
       "<div>\n",
       "<style scoped>\n",
       "    .dataframe tbody tr th:only-of-type {\n",
       "        vertical-align: middle;\n",
       "    }\n",
       "\n",
       "    .dataframe tbody tr th {\n",
       "        vertical-align: top;\n",
       "    }\n",
       "\n",
       "    .dataframe thead th {\n",
       "        text-align: right;\n",
       "    }\n",
       "</style>\n",
       "<table border=\"1\" class=\"dataframe\">\n",
       "  <thead>\n",
       "    <tr style=\"text-align: right;\">\n",
       "      <th></th>\n",
       "      <th>date</th>\n",
       "      <th>time</th>\n",
       "      <th>open</th>\n",
       "      <th>high</th>\n",
       "      <th>low</th>\n",
       "      <th>close</th>\n",
       "      <th>volume</th>\n",
       "      <th>daily_change</th>\n",
       "      <th>targets</th>\n",
       "    </tr>\n",
       "  </thead>\n",
       "  <tbody>\n",
       "    <tr>\n",
       "      <th>0</th>\n",
       "      <td>Thu-23-Dec-21</td>\n",
       "      <td>00:00:00</td>\n",
       "      <td>48610</td>\n",
       "      <td>51432</td>\n",
       "      <td>48030</td>\n",
       "      <td>50794</td>\n",
       "      <td>2246508966</td>\n",
       "      <td>0</td>\n",
       "      <td>long</td>\n",
       "    </tr>\n",
       "    <tr>\n",
       "      <th>1</th>\n",
       "      <td>Fri-24-Dec-21</td>\n",
       "      <td>00:00:00</td>\n",
       "      <td>50794</td>\n",
       "      <td>51980</td>\n",
       "      <td>50402</td>\n",
       "      <td>50785</td>\n",
       "      <td>1837726929</td>\n",
       "      <td>1</td>\n",
       "      <td>short</td>\n",
       "    </tr>\n",
       "    <tr>\n",
       "      <th>2</th>\n",
       "      <td>Sat-25-Dec-21</td>\n",
       "      <td>00:00:00</td>\n",
       "      <td>50785</td>\n",
       "      <td>51149</td>\n",
       "      <td>50100</td>\n",
       "      <td>50406</td>\n",
       "      <td>1147589024</td>\n",
       "      <td>0</td>\n",
       "      <td>short</td>\n",
       "    </tr>\n",
       "    <tr>\n",
       "      <th>3</th>\n",
       "      <td>Sun-26-Dec-21</td>\n",
       "      <td>00:00:00</td>\n",
       "      <td>50406</td>\n",
       "      <td>51294</td>\n",
       "      <td>49283</td>\n",
       "      <td>50763</td>\n",
       "      <td>1676805639</td>\n",
       "      <td>0</td>\n",
       "      <td>long</td>\n",
       "    </tr>\n",
       "    <tr>\n",
       "      <th>4</th>\n",
       "      <td>Mon-27-Dec-21</td>\n",
       "      <td>00:00:00</td>\n",
       "      <td>50763</td>\n",
       "      <td>52119</td>\n",
       "      <td>50464</td>\n",
       "      <td>50706</td>\n",
       "      <td>1765283382</td>\n",
       "      <td>1</td>\n",
       "      <td>short</td>\n",
       "    </tr>\n",
       "  </tbody>\n",
       "</table>\n",
       "</div>"
      ],
      "text/plain": [
       "            date      time   open   high    low  close      volume  \\\n",
       "0  Thu-23-Dec-21  00:00:00  48610  51432  48030  50794  2246508966   \n",
       "1  Fri-24-Dec-21  00:00:00  50794  51980  50402  50785  1837726929   \n",
       "2  Sat-25-Dec-21  00:00:00  50785  51149  50100  50406  1147589024   \n",
       "3  Sun-26-Dec-21  00:00:00  50406  51294  49283  50763  1676805639   \n",
       "4  Mon-27-Dec-21  00:00:00  50763  52119  50464  50706  1765283382   \n",
       "\n",
       "   daily_change targets  \n",
       "0             0    long  \n",
       "1             1   short  \n",
       "2             0   short  \n",
       "3             0    long  \n",
       "4             1   short  "
      ]
     },
     "execution_count": 35,
     "metadata": {},
     "output_type": "execute_result"
    }
   ],
   "source": [
    "btc[\"daily_change\"] = percent_change(btc, \"open\")\n",
    "btc.head()"
   ]
  },
  {
   "cell_type": "code",
   "execution_count": 37,
   "id": "ab9b6f6f-28d4-4067-b8ba-b4d823eb7503",
   "metadata": {},
   "outputs": [],
   "source": [
    "# encode our targets\n",
    "lb = LabelEncoder()\n",
    "targets = lb.fit_transform(btc[\"targets\"])"
   ]
  },
  {
   "cell_type": "code",
   "execution_count": 72,
   "id": "99f8cd15-c08e-4976-bafa-d60f1701d6fe",
   "metadata": {},
   "outputs": [],
   "source": [
    "# Creaate a list of our feautres we want to use and split our dataset\n",
    "\n",
    "features = btc.filter([\"daily_change\"])\n",
    "\n",
    "X_train, X_test, y_train, y_test = train_test_split(features, targets, random_state = 42)\n",
    "\n",
    "# Convert to an array of the numpy variety\n",
    "X_train = X_train.values\n",
    "X_test = X_test.values"
   ]
  },
  {
   "cell_type": "code",
   "execution_count": 74,
   "id": "0d2d62b5-d392-491b-81ee-8c27d80b7c25",
   "metadata": {},
   "outputs": [],
   "source": [
    "# Train a neuronboi\n",
    "mlp = MLPClassifier(hidden_layer_sizes=(100,100,100,100,100), random_state = 42)"
   ]
  },
  {
   "cell_type": "code",
   "execution_count": 78,
   "id": "9a5ffa20-ae62-48c5-b4ca-75b3ae109f9b",
   "metadata": {},
   "outputs": [
    {
     "data": {
      "text/plain": [
       "0.49669757174392937"
      ]
     },
     "execution_count": 78,
     "metadata": {},
     "output_type": "execute_result"
    }
   ],
   "source": [
    "# get the boi score\n",
    "score = cross_val_score(mlp, X_train, y_train, scoring = \"accuracy\")\n",
    "score.mean()"
   ]
  },
  {
   "cell_type": "code",
   "execution_count": null,
   "id": "701f47ee-0262-4081-b85d-1fc8b31ce350",
   "metadata": {},
   "outputs": [],
   "source": []
  }
 ],
 "metadata": {
  "kernelspec": {
   "display_name": "Python 3 (ipykernel)",
   "language": "python",
   "name": "python3"
  },
  "language_info": {
   "codemirror_mode": {
    "name": "ipython",
    "version": 3
   },
   "file_extension": ".py",
   "mimetype": "text/x-python",
   "name": "python",
   "nbconvert_exporter": "python",
   "pygments_lexer": "ipython3",
   "version": "3.11.7"
  }
 },
 "nbformat": 4,
 "nbformat_minor": 5
}
