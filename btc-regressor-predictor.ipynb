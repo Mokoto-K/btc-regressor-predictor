{
 "cells": [
  {
   "cell_type": "markdown",
   "id": "560832f5-a8f2-465f-8c42-9ef9fdf6b49d",
   "metadata": {},
   "source": [
    "# BTC REGRESSION PREDICTOR"
   ]
  },
  {
   "cell_type": "markdown",
   "id": "a35f0548-1d4b-455a-a3fa-ee13ac825c07",
   "metadata": {},
   "source": [
    "Is it possible to use just raw price data to predict the upcoming price of bitcoin? That is the question I am looking to answer in this notebook. The plan is<br>\n",
    "to try calculate features from only the date, high, low, open, close and volume for the last 1000 days of price action."
   ]
  },
  {
   "cell_type": "code",
   "execution_count": 964,
   "id": "e276fa4c-f089-4dd4-95da-9864d186de65",
   "metadata": {},
   "outputs": [],
   "source": [
    "# Import statements\n",
    "\n",
    "import pandas as pd\n",
    "from sklearn.preprocessing import LabelEncoder, StandardScaler\n",
    "from sklearn.model_selection import train_test_split, cross_val_score, cross_val_predict\n",
    "from sklearn.linear_model import SGDClassifier\n",
    "from sklearn.ensemble import RandomForestClassifier, RandomForestRegressor, GradientBoostingClassifier, AdaBoostClassifier\n",
    "from sklearn.tree import DecisionTreeClassifier\n",
    "from sklearn.neighbors import KNeighborsClassifier\n",
    "from sklearn.metrics import f1_score, ConfusionMatrixDisplay"
   ]
  },
  {
   "cell_type": "code",
   "execution_count": 39,
   "id": "15f99505-4010-4c0b-a332-83e3c229938f",
   "metadata": {},
   "outputs": [],
   "source": [
    "# Load our csv as a pandas dataframe\n",
    "btc = pd.read_csv(\"BTCUSDT-D.csv\")"
   ]
  },
  {
   "cell_type": "code",
   "execution_count": 41,
   "id": "04d7033b-3283-45c5-bfab-d7f0d3a07496",
   "metadata": {},
   "outputs": [
    {
     "data": {
      "text/html": [
       "<div>\n",
       "<style scoped>\n",
       "    .dataframe tbody tr th:only-of-type {\n",
       "        vertical-align: middle;\n",
       "    }\n",
       "\n",
       "    .dataframe tbody tr th {\n",
       "        vertical-align: top;\n",
       "    }\n",
       "\n",
       "    .dataframe thead th {\n",
       "        text-align: right;\n",
       "    }\n",
       "</style>\n",
       "<table border=\"1\" class=\"dataframe\">\n",
       "  <thead>\n",
       "    <tr style=\"text-align: right;\">\n",
       "      <th></th>\n",
       "      <th>date</th>\n",
       "      <th>time</th>\n",
       "      <th>open</th>\n",
       "      <th>high</th>\n",
       "      <th>low</th>\n",
       "      <th>close</th>\n",
       "      <th>volume</th>\n",
       "    </tr>\n",
       "  </thead>\n",
       "  <tbody>\n",
       "    <tr>\n",
       "      <th>0</th>\n",
       "      <td>Thu-23-Dec-21</td>\n",
       "      <td>00:00:00</td>\n",
       "      <td>48610</td>\n",
       "      <td>51432</td>\n",
       "      <td>48030</td>\n",
       "      <td>50794</td>\n",
       "      <td>2246508966</td>\n",
       "    </tr>\n",
       "    <tr>\n",
       "      <th>1</th>\n",
       "      <td>Fri-24-Dec-21</td>\n",
       "      <td>00:00:00</td>\n",
       "      <td>50794</td>\n",
       "      <td>51980</td>\n",
       "      <td>50402</td>\n",
       "      <td>50785</td>\n",
       "      <td>1837726929</td>\n",
       "    </tr>\n",
       "    <tr>\n",
       "      <th>2</th>\n",
       "      <td>Sat-25-Dec-21</td>\n",
       "      <td>00:00:00</td>\n",
       "      <td>50785</td>\n",
       "      <td>51149</td>\n",
       "      <td>50100</td>\n",
       "      <td>50406</td>\n",
       "      <td>1147589024</td>\n",
       "    </tr>\n",
       "    <tr>\n",
       "      <th>3</th>\n",
       "      <td>Sun-26-Dec-21</td>\n",
       "      <td>00:00:00</td>\n",
       "      <td>50406</td>\n",
       "      <td>51294</td>\n",
       "      <td>49283</td>\n",
       "      <td>50763</td>\n",
       "      <td>1676805639</td>\n",
       "    </tr>\n",
       "    <tr>\n",
       "      <th>4</th>\n",
       "      <td>Mon-27-Dec-21</td>\n",
       "      <td>00:00:00</td>\n",
       "      <td>50763</td>\n",
       "      <td>52119</td>\n",
       "      <td>50464</td>\n",
       "      <td>50706</td>\n",
       "      <td>1765283382</td>\n",
       "    </tr>\n",
       "  </tbody>\n",
       "</table>\n",
       "</div>"
      ],
      "text/plain": [
       "            date      time   open   high    low  close      volume\n",
       "0  Thu-23-Dec-21  00:00:00  48610  51432  48030  50794  2246508966\n",
       "1  Fri-24-Dec-21  00:00:00  50794  51980  50402  50785  1837726929\n",
       "2  Sat-25-Dec-21  00:00:00  50785  51149  50100  50406  1147589024\n",
       "3  Sun-26-Dec-21  00:00:00  50406  51294  49283  50763  1676805639\n",
       "4  Mon-27-Dec-21  00:00:00  50763  52119  50464  50706  1765283382"
      ]
     },
     "execution_count": 41,
     "metadata": {},
     "output_type": "execute_result"
    }
   ],
   "source": [
    "# Have a squizz at the data\n",
    "btc.head()"
   ]
  },
  {
   "cell_type": "markdown",
   "id": "38fdcfe9-f5a8-46e6-863e-3a0724ae7107",
   "metadata": {},
   "source": [
    "We have to clean the date column up and split the string apart to only contain the day of the week as my idea is to use that to find a potential pattern <br>\n",
    "in the price. I think that month in collaboration with day of the week might be handy too but im unsure... So for now we will just try day of the week and <br>\n",
    "keep months in our back pocket"
   ]
  },
  {
   "cell_type": "markdown",
   "id": "31bb929e-853b-434d-9962-fe1a9b090279",
   "metadata": {},
   "source": [
    "## Transform the data column, creating features"
   ]
  },
  {
   "cell_type": "markdown",
   "id": "49719224-2516-4ae3-a6b8-09e701007ca8",
   "metadata": {},
   "source": [
    "#### Adding days of the week"
   ]
  },
  {
   "cell_type": "code",
   "execution_count": 46,
   "id": "8ff75ade-3a79-4144-b165-5d7de53a13f3",
   "metadata": {},
   "outputs": [
    {
     "data": {
      "text/html": [
       "<div>\n",
       "<style scoped>\n",
       "    .dataframe tbody tr th:only-of-type {\n",
       "        vertical-align: middle;\n",
       "    }\n",
       "\n",
       "    .dataframe tbody tr th {\n",
       "        vertical-align: top;\n",
       "    }\n",
       "\n",
       "    .dataframe thead th {\n",
       "        text-align: right;\n",
       "    }\n",
       "</style>\n",
       "<table border=\"1\" class=\"dataframe\">\n",
       "  <thead>\n",
       "    <tr style=\"text-align: right;\">\n",
       "      <th></th>\n",
       "      <th>date</th>\n",
       "      <th>time</th>\n",
       "      <th>open</th>\n",
       "      <th>high</th>\n",
       "      <th>low</th>\n",
       "      <th>close</th>\n",
       "      <th>volume</th>\n",
       "      <th>day</th>\n",
       "    </tr>\n",
       "  </thead>\n",
       "  <tbody>\n",
       "    <tr>\n",
       "      <th>0</th>\n",
       "      <td>Thu-23-Dec-21</td>\n",
       "      <td>00:00:00</td>\n",
       "      <td>48610</td>\n",
       "      <td>51432</td>\n",
       "      <td>48030</td>\n",
       "      <td>50794</td>\n",
       "      <td>2246508966</td>\n",
       "      <td>Thu</td>\n",
       "    </tr>\n",
       "    <tr>\n",
       "      <th>1</th>\n",
       "      <td>Fri-24-Dec-21</td>\n",
       "      <td>00:00:00</td>\n",
       "      <td>50794</td>\n",
       "      <td>51980</td>\n",
       "      <td>50402</td>\n",
       "      <td>50785</td>\n",
       "      <td>1837726929</td>\n",
       "      <td>Fri</td>\n",
       "    </tr>\n",
       "    <tr>\n",
       "      <th>2</th>\n",
       "      <td>Sat-25-Dec-21</td>\n",
       "      <td>00:00:00</td>\n",
       "      <td>50785</td>\n",
       "      <td>51149</td>\n",
       "      <td>50100</td>\n",
       "      <td>50406</td>\n",
       "      <td>1147589024</td>\n",
       "      <td>Sat</td>\n",
       "    </tr>\n",
       "    <tr>\n",
       "      <th>3</th>\n",
       "      <td>Sun-26-Dec-21</td>\n",
       "      <td>00:00:00</td>\n",
       "      <td>50406</td>\n",
       "      <td>51294</td>\n",
       "      <td>49283</td>\n",
       "      <td>50763</td>\n",
       "      <td>1676805639</td>\n",
       "      <td>Sun</td>\n",
       "    </tr>\n",
       "    <tr>\n",
       "      <th>4</th>\n",
       "      <td>Mon-27-Dec-21</td>\n",
       "      <td>00:00:00</td>\n",
       "      <td>50763</td>\n",
       "      <td>52119</td>\n",
       "      <td>50464</td>\n",
       "      <td>50706</td>\n",
       "      <td>1765283382</td>\n",
       "      <td>Mon</td>\n",
       "    </tr>\n",
       "  </tbody>\n",
       "</table>\n",
       "</div>"
      ],
      "text/plain": [
       "            date      time   open   high    low  close      volume  day\n",
       "0  Thu-23-Dec-21  00:00:00  48610  51432  48030  50794  2246508966  Thu\n",
       "1  Fri-24-Dec-21  00:00:00  50794  51980  50402  50785  1837726929  Fri\n",
       "2  Sat-25-Dec-21  00:00:00  50785  51149  50100  50406  1147589024  Sat\n",
       "3  Sun-26-Dec-21  00:00:00  50406  51294  49283  50763  1676805639  Sun\n",
       "4  Mon-27-Dec-21  00:00:00  50763  52119  50464  50706  1765283382  Mon"
      ]
     },
     "execution_count": 46,
     "metadata": {},
     "output_type": "execute_result"
    }
   ],
   "source": [
    "# Create a list to hold the days of the week\n",
    "days = []\n",
    "\n",
    "# Iterate over each date in the data column\n",
    "for date in btc[\"date\"]:\n",
    "    # Split the string on the hypphens and take the first string (The abbrivated day)\n",
    "    day = date.split(\"-\")[0]\n",
    "    # append the day to the list\n",
    "    days.append(day)\n",
    "\n",
    "# Create the new column for our dataframe containing the days of the week\n",
    "btc[\"day\"] = days\n",
    "btc.head()"
   ]
  },
  {
   "cell_type": "markdown",
   "id": "2037b45f-c8e7-426d-9f8e-578fd6953fd6",
   "metadata": {},
   "source": [
    "### Calculate features"
   ]
  },
  {
   "cell_type": "code",
   "execution_count": 49,
   "id": "95b0ab20-f88b-4218-8925-99c6454f6cdd",
   "metadata": {},
   "outputs": [],
   "source": [
    "# Creates a list out of a given column\n",
    "\n",
    "def create_list(column):\n",
    "    \"\"\"\n",
    "    Takes a pandas column and iterates over it's content appending each\n",
    "    row to a list and than returns that list\n",
    "    :Params: coloumn - a pandas column\n",
    "    :Return: ls - a list of all values in that column\n",
    "    \"\"\"\n",
    "    \n",
    "    ls = []\n",
    "    \n",
    "    for row in column:\n",
    "        ls.append(row)\n",
    "    return ls"
   ]
  },
  {
   "cell_type": "markdown",
   "id": "2425a220-b3f2-4066-a919-6fd7b9493544",
   "metadata": {},
   "source": [
    "#### Calculating percentage change"
   ]
  },
  {
   "cell_type": "code",
   "execution_count": 52,
   "id": "4d55b003-6e98-4822-8d42-d844ebab1ec2",
   "metadata": {},
   "outputs": [
    {
     "data": {
      "text/html": [
       "<div>\n",
       "<style scoped>\n",
       "    .dataframe tbody tr th:only-of-type {\n",
       "        vertical-align: middle;\n",
       "    }\n",
       "\n",
       "    .dataframe tbody tr th {\n",
       "        vertical-align: top;\n",
       "    }\n",
       "\n",
       "    .dataframe thead th {\n",
       "        text-align: right;\n",
       "    }\n",
       "</style>\n",
       "<table border=\"1\" class=\"dataframe\">\n",
       "  <thead>\n",
       "    <tr style=\"text-align: right;\">\n",
       "      <th></th>\n",
       "      <th>date</th>\n",
       "      <th>time</th>\n",
       "      <th>open</th>\n",
       "      <th>high</th>\n",
       "      <th>low</th>\n",
       "      <th>close</th>\n",
       "      <th>volume</th>\n",
       "      <th>day</th>\n",
       "      <th>change</th>\n",
       "    </tr>\n",
       "  </thead>\n",
       "  <tbody>\n",
       "    <tr>\n",
       "      <th>0</th>\n",
       "      <td>Thu-23-Dec-21</td>\n",
       "      <td>00:00:00</td>\n",
       "      <td>48610</td>\n",
       "      <td>51432</td>\n",
       "      <td>48030</td>\n",
       "      <td>50794</td>\n",
       "      <td>2246508966</td>\n",
       "      <td>Thu</td>\n",
       "      <td>4.49</td>\n",
       "    </tr>\n",
       "    <tr>\n",
       "      <th>1</th>\n",
       "      <td>Fri-24-Dec-21</td>\n",
       "      <td>00:00:00</td>\n",
       "      <td>50794</td>\n",
       "      <td>51980</td>\n",
       "      <td>50402</td>\n",
       "      <td>50785</td>\n",
       "      <td>1837726929</td>\n",
       "      <td>Fri</td>\n",
       "      <td>-0.02</td>\n",
       "    </tr>\n",
       "    <tr>\n",
       "      <th>2</th>\n",
       "      <td>Sat-25-Dec-21</td>\n",
       "      <td>00:00:00</td>\n",
       "      <td>50785</td>\n",
       "      <td>51149</td>\n",
       "      <td>50100</td>\n",
       "      <td>50406</td>\n",
       "      <td>1147589024</td>\n",
       "      <td>Sat</td>\n",
       "      <td>-0.75</td>\n",
       "    </tr>\n",
       "    <tr>\n",
       "      <th>3</th>\n",
       "      <td>Sun-26-Dec-21</td>\n",
       "      <td>00:00:00</td>\n",
       "      <td>50406</td>\n",
       "      <td>51294</td>\n",
       "      <td>49283</td>\n",
       "      <td>50763</td>\n",
       "      <td>1676805639</td>\n",
       "      <td>Sun</td>\n",
       "      <td>0.71</td>\n",
       "    </tr>\n",
       "    <tr>\n",
       "      <th>4</th>\n",
       "      <td>Mon-27-Dec-21</td>\n",
       "      <td>00:00:00</td>\n",
       "      <td>50763</td>\n",
       "      <td>52119</td>\n",
       "      <td>50464</td>\n",
       "      <td>50706</td>\n",
       "      <td>1765283382</td>\n",
       "      <td>Mon</td>\n",
       "      <td>-0.11</td>\n",
       "    </tr>\n",
       "  </tbody>\n",
       "</table>\n",
       "</div>"
      ],
      "text/plain": [
       "            date      time   open   high    low  close      volume  day  \\\n",
       "0  Thu-23-Dec-21  00:00:00  48610  51432  48030  50794  2246508966  Thu   \n",
       "1  Fri-24-Dec-21  00:00:00  50794  51980  50402  50785  1837726929  Fri   \n",
       "2  Sat-25-Dec-21  00:00:00  50785  51149  50100  50406  1147589024  Sat   \n",
       "3  Sun-26-Dec-21  00:00:00  50406  51294  49283  50763  1676805639  Sun   \n",
       "4  Mon-27-Dec-21  00:00:00  50763  52119  50464  50706  1765283382  Mon   \n",
       "\n",
       "   change  \n",
       "0    4.49  \n",
       "1   -0.02  \n",
       "2   -0.75  \n",
       "3    0.71  \n",
       "4   -0.11  "
      ]
     },
     "execution_count": 52,
     "metadata": {},
     "output_type": "execute_result"
    }
   ],
   "source": [
    "# Createa list of all open values\n",
    "opens = btc[\"open\"]\n",
    "\n",
    "# Create a list of all close values\n",
    "closes = btc[\"close\"]\n",
    "\n",
    "\n",
    "# Iterate through both lists of values and calculate the change from open to close price, append it to a list\n",
    "changes = []\n",
    "for idx in range(len(opens)):\n",
    "    change = round((closes[idx] - opens[idx]) / opens[idx] * 100, 2)\n",
    "    changes.append(change)\n",
    "\n",
    "# Add the column to the data\n",
    "btc[\"change\"] = changes\n",
    "btc.head()"
   ]
  },
  {
   "cell_type": "markdown",
   "id": "9f611c6c-151f-4146-9159-319438842de3",
   "metadata": {},
   "source": [
    "#### Calculating high to low differences"
   ]
  },
  {
   "cell_type": "code",
   "execution_count": 55,
   "id": "0ec572f1-6c8a-43b5-9423-a22b8164f8ec",
   "metadata": {},
   "outputs": [
    {
     "data": {
      "text/html": [
       "<div>\n",
       "<style scoped>\n",
       "    .dataframe tbody tr th:only-of-type {\n",
       "        vertical-align: middle;\n",
       "    }\n",
       "\n",
       "    .dataframe tbody tr th {\n",
       "        vertical-align: top;\n",
       "    }\n",
       "\n",
       "    .dataframe thead th {\n",
       "        text-align: right;\n",
       "    }\n",
       "</style>\n",
       "<table border=\"1\" class=\"dataframe\">\n",
       "  <thead>\n",
       "    <tr style=\"text-align: right;\">\n",
       "      <th></th>\n",
       "      <th>date</th>\n",
       "      <th>time</th>\n",
       "      <th>open</th>\n",
       "      <th>high</th>\n",
       "      <th>low</th>\n",
       "      <th>close</th>\n",
       "      <th>volume</th>\n",
       "      <th>day</th>\n",
       "      <th>change</th>\n",
       "      <th>high_to_close</th>\n",
       "      <th>low_to_close</th>\n",
       "      <th>high_to_low</th>\n",
       "    </tr>\n",
       "  </thead>\n",
       "  <tbody>\n",
       "    <tr>\n",
       "      <th>0</th>\n",
       "      <td>Thu-23-Dec-21</td>\n",
       "      <td>00:00:00</td>\n",
       "      <td>48610</td>\n",
       "      <td>51432</td>\n",
       "      <td>48030</td>\n",
       "      <td>50794</td>\n",
       "      <td>2246508966</td>\n",
       "      <td>Thu</td>\n",
       "      <td>4.49</td>\n",
       "      <td>1.26</td>\n",
       "      <td>5.44</td>\n",
       "      <td>6.61</td>\n",
       "    </tr>\n",
       "    <tr>\n",
       "      <th>1</th>\n",
       "      <td>Fri-24-Dec-21</td>\n",
       "      <td>00:00:00</td>\n",
       "      <td>50794</td>\n",
       "      <td>51980</td>\n",
       "      <td>50402</td>\n",
       "      <td>50785</td>\n",
       "      <td>1837726929</td>\n",
       "      <td>Fri</td>\n",
       "      <td>-0.02</td>\n",
       "      <td>2.35</td>\n",
       "      <td>0.75</td>\n",
       "      <td>3.04</td>\n",
       "    </tr>\n",
       "    <tr>\n",
       "      <th>2</th>\n",
       "      <td>Sat-25-Dec-21</td>\n",
       "      <td>00:00:00</td>\n",
       "      <td>50785</td>\n",
       "      <td>51149</td>\n",
       "      <td>50100</td>\n",
       "      <td>50406</td>\n",
       "      <td>1147589024</td>\n",
       "      <td>Sat</td>\n",
       "      <td>-0.75</td>\n",
       "      <td>1.47</td>\n",
       "      <td>0.61</td>\n",
       "      <td>2.05</td>\n",
       "    </tr>\n",
       "    <tr>\n",
       "      <th>3</th>\n",
       "      <td>Sun-26-Dec-21</td>\n",
       "      <td>00:00:00</td>\n",
       "      <td>50406</td>\n",
       "      <td>51294</td>\n",
       "      <td>49283</td>\n",
       "      <td>50763</td>\n",
       "      <td>1676805639</td>\n",
       "      <td>Sun</td>\n",
       "      <td>0.71</td>\n",
       "      <td>1.05</td>\n",
       "      <td>2.92</td>\n",
       "      <td>3.92</td>\n",
       "    </tr>\n",
       "    <tr>\n",
       "      <th>4</th>\n",
       "      <td>Mon-27-Dec-21</td>\n",
       "      <td>00:00:00</td>\n",
       "      <td>50763</td>\n",
       "      <td>52119</td>\n",
       "      <td>50464</td>\n",
       "      <td>50706</td>\n",
       "      <td>1765283382</td>\n",
       "      <td>Mon</td>\n",
       "      <td>-0.11</td>\n",
       "      <td>2.79</td>\n",
       "      <td>0.48</td>\n",
       "      <td>3.18</td>\n",
       "    </tr>\n",
       "  </tbody>\n",
       "</table>\n",
       "</div>"
      ],
      "text/plain": [
       "            date      time   open   high    low  close      volume  day  \\\n",
       "0  Thu-23-Dec-21  00:00:00  48610  51432  48030  50794  2246508966  Thu   \n",
       "1  Fri-24-Dec-21  00:00:00  50794  51980  50402  50785  1837726929  Fri   \n",
       "2  Sat-25-Dec-21  00:00:00  50785  51149  50100  50406  1147589024  Sat   \n",
       "3  Sun-26-Dec-21  00:00:00  50406  51294  49283  50763  1676805639  Sun   \n",
       "4  Mon-27-Dec-21  00:00:00  50763  52119  50464  50706  1765283382  Mon   \n",
       "\n",
       "   change  high_to_close  low_to_close  high_to_low  \n",
       "0    4.49           1.26          5.44         6.61  \n",
       "1   -0.02           2.35          0.75         3.04  \n",
       "2   -0.75           1.47          0.61         2.05  \n",
       "3    0.71           1.05          2.92         3.92  \n",
       "4   -0.11           2.79          0.48         3.18  "
      ]
     },
     "execution_count": 55,
     "metadata": {},
     "output_type": "execute_result"
    }
   ],
   "source": [
    "# Creates lists for the highs and the lows\n",
    "highs = create_list(btc[\"high\"])\n",
    "lows = create_list(btc[\"low\"])\n",
    "\n",
    "# Create two features calculating the difference between the highs and the lows and the closes\n",
    "high_to_close = []\n",
    "low_to_close = []\n",
    "high_to_low = []\n",
    "for idx in range(len(closes)):\n",
    "    high_to_close.append(round((highs[idx] - closes[idx]) / closes[idx] * 100, 2))\n",
    "    low_to_close.append(round((closes[idx] - lows[idx]) / closes[idx] * 100, 2))\n",
    "    high_to_low.append(round((highs[idx] - lows[idx]) / highs[idx] * 100, 2))\n",
    "    \n",
    "# Add our new features to the dataframe\n",
    "btc[\"high_to_close\"] = high_to_close\n",
    "btc[\"low_to_close\"] = low_to_close\n",
    "btc[\"high_to_low\"] = high_to_low\n",
    "btc.head()"
   ]
  },
  {
   "cell_type": "markdown",
   "id": "9fbf4b8e-d14e-4f8c-ba77-08ac0174ffec",
   "metadata": {},
   "source": [
    "#### Adding long an short labels"
   ]
  },
  {
   "cell_type": "code",
   "execution_count": 58,
   "id": "2a67ca0e-b966-4cf6-b94d-988b6968ebaf",
   "metadata": {},
   "outputs": [
    {
     "data": {
      "text/html": [
       "<div>\n",
       "<style scoped>\n",
       "    .dataframe tbody tr th:only-of-type {\n",
       "        vertical-align: middle;\n",
       "    }\n",
       "\n",
       "    .dataframe tbody tr th {\n",
       "        vertical-align: top;\n",
       "    }\n",
       "\n",
       "    .dataframe thead th {\n",
       "        text-align: right;\n",
       "    }\n",
       "</style>\n",
       "<table border=\"1\" class=\"dataframe\">\n",
       "  <thead>\n",
       "    <tr style=\"text-align: right;\">\n",
       "      <th></th>\n",
       "      <th>date</th>\n",
       "      <th>time</th>\n",
       "      <th>open</th>\n",
       "      <th>high</th>\n",
       "      <th>low</th>\n",
       "      <th>close</th>\n",
       "      <th>volume</th>\n",
       "      <th>day</th>\n",
       "      <th>change</th>\n",
       "      <th>high_to_close</th>\n",
       "      <th>low_to_close</th>\n",
       "      <th>high_to_low</th>\n",
       "      <th>direction</th>\n",
       "    </tr>\n",
       "  </thead>\n",
       "  <tbody>\n",
       "    <tr>\n",
       "      <th>0</th>\n",
       "      <td>Thu-23-Dec-21</td>\n",
       "      <td>00:00:00</td>\n",
       "      <td>48610</td>\n",
       "      <td>51432</td>\n",
       "      <td>48030</td>\n",
       "      <td>50794</td>\n",
       "      <td>2246508966</td>\n",
       "      <td>Thu</td>\n",
       "      <td>4.49</td>\n",
       "      <td>1.26</td>\n",
       "      <td>5.44</td>\n",
       "      <td>6.61</td>\n",
       "      <td>long</td>\n",
       "    </tr>\n",
       "    <tr>\n",
       "      <th>1</th>\n",
       "      <td>Fri-24-Dec-21</td>\n",
       "      <td>00:00:00</td>\n",
       "      <td>50794</td>\n",
       "      <td>51980</td>\n",
       "      <td>50402</td>\n",
       "      <td>50785</td>\n",
       "      <td>1837726929</td>\n",
       "      <td>Fri</td>\n",
       "      <td>-0.02</td>\n",
       "      <td>2.35</td>\n",
       "      <td>0.75</td>\n",
       "      <td>3.04</td>\n",
       "      <td>short</td>\n",
       "    </tr>\n",
       "    <tr>\n",
       "      <th>2</th>\n",
       "      <td>Sat-25-Dec-21</td>\n",
       "      <td>00:00:00</td>\n",
       "      <td>50785</td>\n",
       "      <td>51149</td>\n",
       "      <td>50100</td>\n",
       "      <td>50406</td>\n",
       "      <td>1147589024</td>\n",
       "      <td>Sat</td>\n",
       "      <td>-0.75</td>\n",
       "      <td>1.47</td>\n",
       "      <td>0.61</td>\n",
       "      <td>2.05</td>\n",
       "      <td>short</td>\n",
       "    </tr>\n",
       "    <tr>\n",
       "      <th>3</th>\n",
       "      <td>Sun-26-Dec-21</td>\n",
       "      <td>00:00:00</td>\n",
       "      <td>50406</td>\n",
       "      <td>51294</td>\n",
       "      <td>49283</td>\n",
       "      <td>50763</td>\n",
       "      <td>1676805639</td>\n",
       "      <td>Sun</td>\n",
       "      <td>0.71</td>\n",
       "      <td>1.05</td>\n",
       "      <td>2.92</td>\n",
       "      <td>3.92</td>\n",
       "      <td>long</td>\n",
       "    </tr>\n",
       "    <tr>\n",
       "      <th>4</th>\n",
       "      <td>Mon-27-Dec-21</td>\n",
       "      <td>00:00:00</td>\n",
       "      <td>50763</td>\n",
       "      <td>52119</td>\n",
       "      <td>50464</td>\n",
       "      <td>50706</td>\n",
       "      <td>1765283382</td>\n",
       "      <td>Mon</td>\n",
       "      <td>-0.11</td>\n",
       "      <td>2.79</td>\n",
       "      <td>0.48</td>\n",
       "      <td>3.18</td>\n",
       "      <td>short</td>\n",
       "    </tr>\n",
       "  </tbody>\n",
       "</table>\n",
       "</div>"
      ],
      "text/plain": [
       "            date      time   open   high    low  close      volume  day  \\\n",
       "0  Thu-23-Dec-21  00:00:00  48610  51432  48030  50794  2246508966  Thu   \n",
       "1  Fri-24-Dec-21  00:00:00  50794  51980  50402  50785  1837726929  Fri   \n",
       "2  Sat-25-Dec-21  00:00:00  50785  51149  50100  50406  1147589024  Sat   \n",
       "3  Sun-26-Dec-21  00:00:00  50406  51294  49283  50763  1676805639  Sun   \n",
       "4  Mon-27-Dec-21  00:00:00  50763  52119  50464  50706  1765283382  Mon   \n",
       "\n",
       "   change  high_to_close  low_to_close  high_to_low direction  \n",
       "0    4.49           1.26          5.44         6.61      long  \n",
       "1   -0.02           2.35          0.75         3.04     short  \n",
       "2   -0.75           1.47          0.61         2.05     short  \n",
       "3    0.71           1.05          2.92         3.92      long  \n",
       "4   -0.11           2.79          0.48         3.18     short  "
      ]
     },
     "execution_count": 58,
     "metadata": {},
     "output_type": "execute_result"
    }
   ],
   "source": [
    "directions = []\n",
    "\n",
    "for row in changes:\n",
    "    if row >= 0:\n",
    "        directions.append(\"long\")\n",
    "    else: \n",
    "        directions.append(\"short\")\n",
    "\n",
    "btc[\"direction\"] = directions\n",
    "btc.head()"
   ]
  },
  {
   "cell_type": "markdown",
   "id": "b6bec4d9-4112-43a5-b4bb-cf516dc6437e",
   "metadata": {},
   "source": [
    "#### Creating a new dataframe on a subset of features"
   ]
  },
  {
   "cell_type": "code",
   "execution_count": 61,
   "id": "2120045f-8fd8-4f30-9eae-365d8077964b",
   "metadata": {},
   "outputs": [
    {
     "data": {
      "text/html": [
       "<div>\n",
       "<style scoped>\n",
       "    .dataframe tbody tr th:only-of-type {\n",
       "        vertical-align: middle;\n",
       "    }\n",
       "\n",
       "    .dataframe tbody tr th {\n",
       "        vertical-align: top;\n",
       "    }\n",
       "\n",
       "    .dataframe thead th {\n",
       "        text-align: right;\n",
       "    }\n",
       "</style>\n",
       "<table border=\"1\" class=\"dataframe\">\n",
       "  <thead>\n",
       "    <tr style=\"text-align: right;\">\n",
       "      <th></th>\n",
       "      <th>volume</th>\n",
       "      <th>day</th>\n",
       "      <th>change</th>\n",
       "      <th>high_to_close</th>\n",
       "      <th>low_to_close</th>\n",
       "      <th>high_to_low</th>\n",
       "      <th>direction</th>\n",
       "    </tr>\n",
       "  </thead>\n",
       "  <tbody>\n",
       "    <tr>\n",
       "      <th>0</th>\n",
       "      <td>2246508966</td>\n",
       "      <td>Thu</td>\n",
       "      <td>4.49</td>\n",
       "      <td>1.26</td>\n",
       "      <td>5.44</td>\n",
       "      <td>6.61</td>\n",
       "      <td>long</td>\n",
       "    </tr>\n",
       "    <tr>\n",
       "      <th>1</th>\n",
       "      <td>1837726929</td>\n",
       "      <td>Fri</td>\n",
       "      <td>-0.02</td>\n",
       "      <td>2.35</td>\n",
       "      <td>0.75</td>\n",
       "      <td>3.04</td>\n",
       "      <td>short</td>\n",
       "    </tr>\n",
       "    <tr>\n",
       "      <th>2</th>\n",
       "      <td>1147589024</td>\n",
       "      <td>Sat</td>\n",
       "      <td>-0.75</td>\n",
       "      <td>1.47</td>\n",
       "      <td>0.61</td>\n",
       "      <td>2.05</td>\n",
       "      <td>short</td>\n",
       "    </tr>\n",
       "    <tr>\n",
       "      <th>3</th>\n",
       "      <td>1676805639</td>\n",
       "      <td>Sun</td>\n",
       "      <td>0.71</td>\n",
       "      <td>1.05</td>\n",
       "      <td>2.92</td>\n",
       "      <td>3.92</td>\n",
       "      <td>long</td>\n",
       "    </tr>\n",
       "    <tr>\n",
       "      <th>4</th>\n",
       "      <td>1765283382</td>\n",
       "      <td>Mon</td>\n",
       "      <td>-0.11</td>\n",
       "      <td>2.79</td>\n",
       "      <td>0.48</td>\n",
       "      <td>3.18</td>\n",
       "      <td>short</td>\n",
       "    </tr>\n",
       "  </tbody>\n",
       "</table>\n",
       "</div>"
      ],
      "text/plain": [
       "       volume  day  change  high_to_close  low_to_close  high_to_low direction\n",
       "0  2246508966  Thu    4.49           1.26          5.44         6.61      long\n",
       "1  1837726929  Fri   -0.02           2.35          0.75         3.04     short\n",
       "2  1147589024  Sat   -0.75           1.47          0.61         2.05     short\n",
       "3  1676805639  Sun    0.71           1.05          2.92         3.92      long\n",
       "4  1765283382  Mon   -0.11           2.79          0.48         3.18     short"
      ]
     },
     "execution_count": 61,
     "metadata": {},
     "output_type": "execute_result"
    }
   ],
   "source": [
    "# Creating a smaller dataframe out of only a few features to test some ideas on\n",
    "btc_features = btc.drop([\"date\", \"time\", \"open\", \"high\", \"low\", \"close\"], axis = 1)\n",
    "btc_features.head()"
   ]
  },
  {
   "cell_type": "markdown",
   "id": "993a9a00-6daa-4fef-bd5c-a9092ab33042",
   "metadata": {},
   "source": [
    "For now we have calculated only the day to day change, and the difference in the daily high and low from the close. I'm very skeptical of how this <br>\n",
    "is going to work, so I first just want to see if I can get any results before putting anymore effort into this idea. I made a smaller subset of <br>\n",
    "features in a new dataframe, lets go ahead and run through some workflow with them."
   ]
  },
  {
   "cell_type": "markdown",
   "id": "dd1e358d-04f1-4310-b9b8-d269c52581c7",
   "metadata": {},
   "source": [
    "## Machine Learning/Big Data/Python/Collaboration..... workflow"
   ]
  },
  {
   "cell_type": "markdown",
   "id": "9c729b1c-72d1-406f-9591-3e7114d0eb18",
   "metadata": {
    "jp-MarkdownHeadingCollapsed": true
   },
   "source": [
    "### Attempt 1"
   ]
  },
  {
   "cell_type": "code",
   "execution_count": 66,
   "id": "9d54c811-f4b9-47c2-9a68-b004db919686",
   "metadata": {},
   "outputs": [
    {
     "data": {
      "text/html": [
       "<div>\n",
       "<style scoped>\n",
       "    .dataframe tbody tr th:only-of-type {\n",
       "        vertical-align: middle;\n",
       "    }\n",
       "\n",
       "    .dataframe tbody tr th {\n",
       "        vertical-align: top;\n",
       "    }\n",
       "\n",
       "    .dataframe thead th {\n",
       "        text-align: right;\n",
       "    }\n",
       "</style>\n",
       "<table border=\"1\" class=\"dataframe\">\n",
       "  <thead>\n",
       "    <tr style=\"text-align: right;\">\n",
       "      <th></th>\n",
       "      <th>volume</th>\n",
       "      <th>day</th>\n",
       "      <th>change</th>\n",
       "      <th>high_to_close</th>\n",
       "      <th>low_to_close</th>\n",
       "      <th>high_to_low</th>\n",
       "      <th>direction</th>\n",
       "    </tr>\n",
       "  </thead>\n",
       "  <tbody>\n",
       "    <tr>\n",
       "      <th>0</th>\n",
       "      <td>2246508966</td>\n",
       "      <td>Thu</td>\n",
       "      <td>4.49</td>\n",
       "      <td>1.26</td>\n",
       "      <td>5.44</td>\n",
       "      <td>6.61</td>\n",
       "      <td>long</td>\n",
       "    </tr>\n",
       "    <tr>\n",
       "      <th>1</th>\n",
       "      <td>1837726929</td>\n",
       "      <td>Fri</td>\n",
       "      <td>-0.02</td>\n",
       "      <td>2.35</td>\n",
       "      <td>0.75</td>\n",
       "      <td>3.04</td>\n",
       "      <td>short</td>\n",
       "    </tr>\n",
       "    <tr>\n",
       "      <th>2</th>\n",
       "      <td>1147589024</td>\n",
       "      <td>Sat</td>\n",
       "      <td>-0.75</td>\n",
       "      <td>1.47</td>\n",
       "      <td>0.61</td>\n",
       "      <td>2.05</td>\n",
       "      <td>short</td>\n",
       "    </tr>\n",
       "    <tr>\n",
       "      <th>3</th>\n",
       "      <td>1676805639</td>\n",
       "      <td>Sun</td>\n",
       "      <td>0.71</td>\n",
       "      <td>1.05</td>\n",
       "      <td>2.92</td>\n",
       "      <td>3.92</td>\n",
       "      <td>long</td>\n",
       "    </tr>\n",
       "    <tr>\n",
       "      <th>4</th>\n",
       "      <td>1765283382</td>\n",
       "      <td>Mon</td>\n",
       "      <td>-0.11</td>\n",
       "      <td>2.79</td>\n",
       "      <td>0.48</td>\n",
       "      <td>3.18</td>\n",
       "      <td>short</td>\n",
       "    </tr>\n",
       "  </tbody>\n",
       "</table>\n",
       "</div>"
      ],
      "text/plain": [
       "       volume  day  change  high_to_close  low_to_close  high_to_low direction\n",
       "0  2246508966  Thu    4.49           1.26          5.44         6.61      long\n",
       "1  1837726929  Fri   -0.02           2.35          0.75         3.04     short\n",
       "2  1147589024  Sat   -0.75           1.47          0.61         2.05     short\n",
       "3  1676805639  Sun    0.71           1.05          2.92         3.92      long\n",
       "4  1765283382  Mon   -0.11           2.79          0.48         3.18     short"
      ]
     },
     "execution_count": 66,
     "metadata": {},
     "output_type": "execute_result"
    }
   ],
   "source": [
    "btc_features.head()"
   ]
  },
  {
   "cell_type": "code",
   "execution_count": 68,
   "id": "5a27a7b5-eacf-473f-9ca9-3e66526346e9",
   "metadata": {},
   "outputs": [],
   "source": [
    "# Transform our days using a labelencoder\n",
    "day_encoder = LabelEncoder()\n",
    "days = day_encoder.fit_transform(btc_features[\"day\"])\n",
    "\n",
    "dir_encoder = LabelEncoder()\n",
    "direction = dir_encoder.fit_transform(btc_features[\"direction\"])\n",
    "\n",
    "# dir_encoder.classes_\n",
    "btc_features[\"days\"] = days\n",
    "# btc_features.head()"
   ]
  },
  {
   "cell_type": "code",
   "execution_count": 70,
   "id": "7af08986-f025-4ae6-b06f-4a399b494505",
   "metadata": {},
   "outputs": [
    {
     "data": {
      "text/html": [
       "<div>\n",
       "<style scoped>\n",
       "    .dataframe tbody tr th:only-of-type {\n",
       "        vertical-align: middle;\n",
       "    }\n",
       "\n",
       "    .dataframe tbody tr th {\n",
       "        vertical-align: top;\n",
       "    }\n",
       "\n",
       "    .dataframe thead th {\n",
       "        text-align: right;\n",
       "    }\n",
       "</style>\n",
       "<table border=\"1\" class=\"dataframe\">\n",
       "  <thead>\n",
       "    <tr style=\"text-align: right;\">\n",
       "      <th></th>\n",
       "      <th>volume</th>\n",
       "      <th>high_to_close</th>\n",
       "      <th>low_to_close</th>\n",
       "      <th>high_to_low</th>\n",
       "      <th>days</th>\n",
       "    </tr>\n",
       "  </thead>\n",
       "  <tbody>\n",
       "    <tr>\n",
       "      <th>0</th>\n",
       "      <td>2246508966</td>\n",
       "      <td>1.26</td>\n",
       "      <td>5.44</td>\n",
       "      <td>6.61</td>\n",
       "      <td>4</td>\n",
       "    </tr>\n",
       "    <tr>\n",
       "      <th>1</th>\n",
       "      <td>1837726929</td>\n",
       "      <td>2.35</td>\n",
       "      <td>0.75</td>\n",
       "      <td>3.04</td>\n",
       "      <td>0</td>\n",
       "    </tr>\n",
       "    <tr>\n",
       "      <th>2</th>\n",
       "      <td>1147589024</td>\n",
       "      <td>1.47</td>\n",
       "      <td>0.61</td>\n",
       "      <td>2.05</td>\n",
       "      <td>2</td>\n",
       "    </tr>\n",
       "    <tr>\n",
       "      <th>3</th>\n",
       "      <td>1676805639</td>\n",
       "      <td>1.05</td>\n",
       "      <td>2.92</td>\n",
       "      <td>3.92</td>\n",
       "      <td>3</td>\n",
       "    </tr>\n",
       "    <tr>\n",
       "      <th>4</th>\n",
       "      <td>1765283382</td>\n",
       "      <td>2.79</td>\n",
       "      <td>0.48</td>\n",
       "      <td>3.18</td>\n",
       "      <td>1</td>\n",
       "    </tr>\n",
       "  </tbody>\n",
       "</table>\n",
       "</div>"
      ],
      "text/plain": [
       "       volume  high_to_close  low_to_close  high_to_low  days\n",
       "0  2246508966           1.26          5.44         6.61     4\n",
       "1  1837726929           2.35          0.75         3.04     0\n",
       "2  1147589024           1.47          0.61         2.05     2\n",
       "3  1676805639           1.05          2.92         3.92     3\n",
       "4  1765283382           2.79          0.48         3.18     1"
      ]
     },
     "execution_count": 70,
     "metadata": {},
     "output_type": "execute_result"
    }
   ],
   "source": [
    "# drop all features we don't want in our X set of data\n",
    "X = btc_features.drop([\"day\", \"change\", \"direction\"], axis = 1)\n",
    "X.head()"
   ]
  },
  {
   "cell_type": "code",
   "execution_count": 72,
   "id": "424bdc4d-ec0b-4928-adc7-28a169635694",
   "metadata": {},
   "outputs": [],
   "source": [
    "# Split the testing and training data\n",
    "X_train, X_test, y_train, y_test = train_test_split(X, direction)\n",
    "\n",
    "# Scale the data\n",
    "scaler = StandardScaler()\n",
    "X_train = scaler.fit_transform(X_train)\n",
    "X_test = scaler.transform(X_test)\n",
    "\n",
    "# Check it was transformed into an array by proxy of data scaling\n",
    "# X_train"
   ]
  },
  {
   "cell_type": "code",
   "execution_count": 74,
   "id": "04d6d631-782e-42be-99cf-d705f4a34be7",
   "metadata": {},
   "outputs": [
    {
     "name": "stdout",
     "output_type": "stream",
     "text": [
      "0.8118481066501113\n",
      "0.7784266081100086\n"
     ]
    }
   ],
   "source": [
    "# Creating some classifiers to test some ideas on\n",
    "rnd_clf = RandomForestClassifier()\n",
    "knn_clf = KNeighborsClassifier()\n",
    "\n",
    "# Getting the f1 scores for the classifiers\n",
    "rnd_score = cross_val_score(rnd_clf, X_train, y_train, cv = 10, scoring=\"f1_macro\").mean()\n",
    "print(rnd_score)\n",
    "\n",
    "knn_score = cross_val_score(knn_clf, X_train, y_train, cv = 10, scoring=\"f1_macro\").mean()\n",
    "print(knn_score)\n"
   ]
  },
  {
   "cell_type": "markdown",
   "id": "64e25e35-da45-4533-b5fa-cdca598c8af4",
   "metadata": {},
   "source": [
    "Honestly, not terrible scores.... I feel like im missing something though.... like it's just randomly guessing and hitting this number... how does this help me in what im <br>\n",
    "trying to do anyway? How can I use a classifier that apparently can predict with 80% accuracy if you should long or short the market... but not in the future, on provided <br>\n",
    "data of the day in the past? I dont think this does help me... I know classification isnt for price prediction but I had an idea that it could classifier what to do on a <br>\n",
    "given day, but seeing this now, I dont think it can help me."
   ]
  },
  {
   "cell_type": "code",
   "execution_count": 76,
   "id": "8725d2ca-260c-4491-863e-15aaa21199f4",
   "metadata": {},
   "outputs": [
    {
     "data": {
      "text/plain": [
       "<sklearn.metrics._plot.confusion_matrix.ConfusionMatrixDisplay at 0x149a95090>"
      ]
     },
     "execution_count": 76,
     "metadata": {},
     "output_type": "execute_result"
    },
    {
     "data": {
      "image/png": "[encoded data removed]",
      "text/plain": [
       "<Figure size 640x480 with 2 Axes>"
      ]
     },
     "metadata": {},
     "output_type": "display_data"
    }
   ],
   "source": [
    "# Fit the rando to print out a confusion matrix to see what's going on with it's predictions\n",
    "rnd_clf.fit(X_train, y_train)\n",
    "\n",
    "y_pred = rnd_clf.predict(X_test)\n",
    "f1_score(y_test, y_pred)\n",
    "\n",
    "ConfusionMatrixDisplay.from_predictions(y_test, y_pred, display_labels= dir_encoder.classes_)"
   ]
  },
  {
   "cell_type": "code",
   "execution_count": 77,
   "id": "712f20a7-3a5f-44e1-9553-256352e44c3b",
   "metadata": {},
   "outputs": [
    {
     "name": "stdout",
     "output_type": "stream",
     "text": [
      "volume 0.13145648527006765\n",
      "high_to_close 0.32831654335423716\n",
      "low_to_close 0.31782476568991996\n",
      "high_to_low 0.1713616134252412\n",
      "days 0.051040592260534035\n"
     ]
    }
   ],
   "source": [
    "# Print out what the rando values most\n",
    "for name, score in zip(X.columns, rnd_clf.feature_importances_):\n",
    "    print(name, score)"
   ]
  },
  {
   "cell_type": "markdown",
   "id": "dbc77c8f-5f43-4dd9-8e0e-18fbb7ec7be3",
   "metadata": {},
   "source": [
    "Hmm, the fact that it likes the high and the low from the close the most is absolutely useless... maybe I should try close, volume and day only actually... the other metrics<br>\n",
    "are useless because they would need to occur for me to prompt the classifier with a prediction... same what change and volume, but perhaps it will train harder on the day.. <br>\n",
    "the day is the key, if I can prompt the classifier with the day of the week and it can respond with what to do.... that would be interesting to build a bot around using the <br>\n",
    "highs and the lows are stops and targets."
   ]
  },
  {
   "cell_type": "code",
   "execution_count": 79,
   "id": "b9854de0-0488-4236-899b-daa547478307",
   "metadata": {},
   "outputs": [],
   "source": [
    "# # Testing error on a randoregressor... pretty useless, just curious\n",
    "# rnd_reg = RandomForestRegressor()\n",
    "\n",
    "# score = cross_val_score(rnd_reg, X_train, y_train, scoring = \"neg_mean_squared_error\")\n",
    "# score.mean()\n",
    "# # import sklearn\n",
    "# # sklearn.metrics.get_scorer_names()"
   ]
  },
  {
   "cell_type": "code",
   "execution_count": 80,
   "id": "20c72d25-fe07-44ed-a010-a396cd8195ce",
   "metadata": {},
   "outputs": [
    {
     "name": "stdout",
     "output_type": "stream",
     "text": [
      "Sun change: 0.0987\tHigh: 1.5603\tLow: 1.5119\tMag: 3.0142\tVolume: 2882080575.2867\n",
      "Wed change: 0.1132\tHigh: 2.0197\tLow: 1.9963\tMag: 3.9103\tVolume: 4304116845.6643\n",
      "Tue change: 0.0802\tHigh: 2.1096\tLow: 2.1068\tMag: 4.0968\tVolume: 4746760434.8858\n",
      "Mon change: 0.1584\tHigh: 2.1633\tLow: 2.2679\tMag: 4.2999\tVolume: 4941096851.5105\n",
      "Thu change: 0.1044\tHigh: 2.2054\tLow: 2.2714\tMag: 4.3433\tVolume: 5012882626.5489\n",
      "Sat change: 0.0887\tHigh: 2.0426\tLow: 2.1053\tMag: 4.0281\tVolume: 4591507482.2782\n",
      "Fri change: 0.0649\tHigh: 2.0848\tLow: 2.1469\tMag: 4.1087\tVolume: 4698049690.8144\n"
     ]
    }
   ],
   "source": [
    "# Printing out all the average stats for each day and then inputing them into a prediction to see what I get\n",
    "\n",
    "# Values to hold the stats\n",
    "change = 0\n",
    "high = 0\n",
    "low = 0\n",
    "mag = 0\n",
    "vol = 0\n",
    "divisor = 0\n",
    "\n",
    "# Creating a set of days, using set for no duplicates\n",
    "all_days = set()\n",
    "for day in btc[\"day\"]:\n",
    "    all_days.add(day)\n",
    "\n",
    "# Iterating over every day\n",
    "for day in all_days:\n",
    "    # Iterating over every row\n",
    "    for row in range(len(btc)):\n",
    "        # If the day for the loop matches the day in the row, add all the metrics to their scores\n",
    "        if btc[\"day\"][row] == day:\n",
    "            change += btc[\"change\"][row]\n",
    "            high += btc[\"high_to_close\"][row]\n",
    "            low += btc[\"low_to_close\"][row]\n",
    "            mag += btc[\"high_to_low\"][row]\n",
    "            vol += btc[\"volume\"][row]\n",
    "            divisor += 1\n",
    "    # Display the metrics\n",
    "    print(f\"{day} change: {round(change / divisor,4)}\\tHigh: {round(high / divisor,4)}\\tLow: {round(low / divisor,4)}\\tMag: {round(mag / divisor,4)}\\tVolume: {round(vol / divisor,4)}\")"
   ]
  },
  {
   "cell_type": "code",
   "execution_count": 81,
   "id": "74153f46-209e-4e9e-b5ae-b04e75b3e029",
   "metadata": {},
   "outputs": [
    {
     "data": {
      "text/plain": [
       "array([1])"
      ]
     },
     "execution_count": 81,
     "metadata": {},
     "output_type": "execute_result"
    }
   ],
   "source": [
    "# Running a predict on the rando, values to pass into the list are: vol, high, low, mag, day. In that order\n",
    "y_pred = rnd_clf.predict([[0, 2.3789, 2.2858, 0, 4]])\n",
    "y_pred\n",
    "\n",
    "# day_encoder.classes_"
   ]
  },
  {
   "cell_type": "markdown",
   "id": "5157975a-be93-4248-9903-4e0719c15f5c",
   "metadata": {
    "jp-MarkdownHeadingCollapsed": true
   },
   "source": [
    "### Attempt 2"
   ]
  },
  {
   "cell_type": "markdown",
   "id": "1f5663ff-13bd-4f74-8d80-0a89f7808384",
   "metadata": {},
   "source": [
    "This time ill try with only the change, day and volume."
   ]
  },
  {
   "cell_type": "code",
   "execution_count": 84,
   "id": "f8db1518-bccb-4a52-b058-441ec2dba2ae",
   "metadata": {},
   "outputs": [],
   "source": [
    "# def pipline(X_set, y_set):\n",
    "\n",
    "X = btc.drop([\"date\", \"time\", \"open\", \"high\", \"low\", \"close\", \"day\", \"high_to_close\", \"low_to_close\", \"high_to_low\", \"direction\"], axis = 1)\n",
    "X[\"days\"] = days\n",
    "\n",
    "X_train, X_test, y_train, y_test = train_test_split(X, direction)\n",
    "\n",
    "X_train = scaler.fit_transform(X_train)\n",
    "X_test = scaler.transform(X_test)"
   ]
  },
  {
   "cell_type": "code",
   "execution_count": 85,
   "id": "e76c5440-a66f-4623-a745-0ac1f597474b",
   "metadata": {},
   "outputs": [
    {
     "data": {
      "text/plain": [
       "0.9986657178438001"
      ]
     },
     "execution_count": 85,
     "metadata": {},
     "output_type": "execute_result"
    }
   ],
   "source": [
    "rando2 = RandomForestClassifier()\n",
    "\n",
    "score2 = cross_val_score(rando2, X_train, y_train, cv = 10, scoring = \"f1_macro\")\n",
    "score2.mean()"
   ]
  },
  {
   "cell_type": "markdown",
   "id": "3c810da0-5238-4cd2-bcaa-375401bfa465",
   "metadata": {},
   "source": [
    "Again, I smell bullshit... probably because it is 100% using change to define what to do which literally is telling it if it was an iup or down day"
   ]
  },
  {
   "cell_type": "code",
   "execution_count": 87,
   "id": "1913cf4a-cc3c-4216-b731-3ffffdb4d385",
   "metadata": {},
   "outputs": [
    {
     "name": "stdout",
     "output_type": "stream",
     "text": [
      "volume 0.026706310106653117\n",
      "change 0.9673420614808699\n",
      "days 0.0059516284124769975\n"
     ]
    }
   ],
   "source": [
    "rando2 = rando2.fit(X_train, y_train)\n",
    "\n",
    "for name, score in zip(X.columns, rando2.feature_importances_):\n",
    "    print(name, score)"
   ]
  },
  {
   "cell_type": "markdown",
   "id": "0b73ebeb-576c-4125-9e84-7f188a457fcc",
   "metadata": {},
   "source": [
    "Yeah so this line of thought is completely pointless, im going about everything wrong, or this just isn't possible doing it the way I am doing it. I wish I could get it to classifier<br>\n",
    "a percent up or down, but that also makes no sense... None of this makes sense, and I know that, I was just trying to see what I could squeeze out of price only... silly idea."
   ]
  },
  {
   "cell_type": "markdown",
   "id": "65c28da8-7647-44ac-acb9-f407ce0c8c05",
   "metadata": {
    "jp-MarkdownHeadingCollapsed": true
   },
   "source": [
    "### Attempt 3"
   ]
  },
  {
   "cell_type": "markdown",
   "id": "59f694a1-687f-4a3f-bdb1-f09118da809b",
   "metadata": {},
   "source": [
    "Ok I will try one last thing..., it makes no sense, but I will make the changes the labels and use the days to predict.... wild idea I know... I must exhust everything so I stop<br>\n",
    "thinking that I have missed something"
   ]
  },
  {
   "cell_type": "code",
   "execution_count": 92,
   "id": "88d11f20-d69d-4c30-9779-0c4a24bf51f6",
   "metadata": {},
   "outputs": [],
   "source": [
    "X = btc.drop([\"date\", \"time\", \"open\", \"high\", \"low\", \"close\", \"day\", \"change\", \"high_to_close\", \"low_to_close\", \"high_to_low\", \"direction\"], axis = 1)\n",
    "X[\"days\"] = days\n",
    "y = [int(i) for i in btc.change]\n",
    "\n",
    "X_train, X_test, y_train, y_test = train_test_split(X, y)\n",
    "\n",
    "X_train = scaler.fit_transform(X_train)\n",
    "X_test = scaler.transform(X_test)"
   ]
  },
  {
   "cell_type": "code",
   "execution_count": 93,
   "id": "ef082073-84b6-406e-b1a1-c02e8cd91124",
   "metadata": {},
   "outputs": [
    {
     "name": "stderr",
     "output_type": "stream",
     "text": [
      "/opt/anaconda3/lib/python3.11/site-packages/sklearn/model_selection/_split.py:700: UserWarning: The least populated class in y has only 1 members, which is less than n_splits=10.\n",
      "  warnings.warn(\n"
     ]
    },
    {
     "data": {
      "text/plain": [
       "0.06552099007298981"
      ]
     },
     "execution_count": 93,
     "metadata": {},
     "output_type": "execute_result"
    }
   ],
   "source": [
    "rando2 = RandomForestClassifier()\n",
    "\n",
    "score2 = cross_val_score(rando2, X_train, y_train, cv = 10, scoring = \"f1_macro\")\n",
    "score2.mean()\n",
    "\n"
   ]
  },
  {
   "cell_type": "markdown",
   "id": "8d0b4e08-04e4-40fc-b40f-953e1a9de501",
   "metadata": {},
   "source": [
    "That is hilarious.... 6% hitrate... gonna need some tight risk management to pull this stategy off.... I need to go back to the drawing board and think of some external features <br>\n",
    "to add, or some lagging indicators with price that has a shot of forward predicting the price if im to continue with this project as it is."
   ]
  },
  {
   "cell_type": "code",
   "execution_count": 95,
   "id": "5682b289-08c6-4a04-b8f4-27ae6e24bfe8",
   "metadata": {},
   "outputs": [
    {
     "data": {
      "text/html": [
       "<div>\n",
       "<style scoped>\n",
       "    .dataframe tbody tr th:only-of-type {\n",
       "        vertical-align: middle;\n",
       "    }\n",
       "\n",
       "    .dataframe tbody tr th {\n",
       "        vertical-align: top;\n",
       "    }\n",
       "\n",
       "    .dataframe thead th {\n",
       "        text-align: right;\n",
       "    }\n",
       "</style>\n",
       "<table border=\"1\" class=\"dataframe\">\n",
       "  <thead>\n",
       "    <tr style=\"text-align: right;\">\n",
       "      <th></th>\n",
       "      <th>date</th>\n",
       "      <th>time</th>\n",
       "      <th>open</th>\n",
       "      <th>high</th>\n",
       "      <th>low</th>\n",
       "      <th>close</th>\n",
       "      <th>volume</th>\n",
       "      <th>day</th>\n",
       "      <th>change</th>\n",
       "      <th>high_to_close</th>\n",
       "      <th>low_to_close</th>\n",
       "      <th>high_to_low</th>\n",
       "      <th>direction</th>\n",
       "    </tr>\n",
       "  </thead>\n",
       "  <tbody>\n",
       "    <tr>\n",
       "      <th>0</th>\n",
       "      <td>Thu-23-Dec-21</td>\n",
       "      <td>00:00:00</td>\n",
       "      <td>48610</td>\n",
       "      <td>51432</td>\n",
       "      <td>48030</td>\n",
       "      <td>50794</td>\n",
       "      <td>2246508966</td>\n",
       "      <td>Thu</td>\n",
       "      <td>4.49</td>\n",
       "      <td>1.26</td>\n",
       "      <td>5.44</td>\n",
       "      <td>6.61</td>\n",
       "      <td>long</td>\n",
       "    </tr>\n",
       "    <tr>\n",
       "      <th>1</th>\n",
       "      <td>Fri-24-Dec-21</td>\n",
       "      <td>00:00:00</td>\n",
       "      <td>50794</td>\n",
       "      <td>51980</td>\n",
       "      <td>50402</td>\n",
       "      <td>50785</td>\n",
       "      <td>1837726929</td>\n",
       "      <td>Fri</td>\n",
       "      <td>-0.02</td>\n",
       "      <td>2.35</td>\n",
       "      <td>0.75</td>\n",
       "      <td>3.04</td>\n",
       "      <td>short</td>\n",
       "    </tr>\n",
       "    <tr>\n",
       "      <th>2</th>\n",
       "      <td>Sat-25-Dec-21</td>\n",
       "      <td>00:00:00</td>\n",
       "      <td>50785</td>\n",
       "      <td>51149</td>\n",
       "      <td>50100</td>\n",
       "      <td>50406</td>\n",
       "      <td>1147589024</td>\n",
       "      <td>Sat</td>\n",
       "      <td>-0.75</td>\n",
       "      <td>1.47</td>\n",
       "      <td>0.61</td>\n",
       "      <td>2.05</td>\n",
       "      <td>short</td>\n",
       "    </tr>\n",
       "    <tr>\n",
       "      <th>3</th>\n",
       "      <td>Sun-26-Dec-21</td>\n",
       "      <td>00:00:00</td>\n",
       "      <td>50406</td>\n",
       "      <td>51294</td>\n",
       "      <td>49283</td>\n",
       "      <td>50763</td>\n",
       "      <td>1676805639</td>\n",
       "      <td>Sun</td>\n",
       "      <td>0.71</td>\n",
       "      <td>1.05</td>\n",
       "      <td>2.92</td>\n",
       "      <td>3.92</td>\n",
       "      <td>long</td>\n",
       "    </tr>\n",
       "    <tr>\n",
       "      <th>4</th>\n",
       "      <td>Mon-27-Dec-21</td>\n",
       "      <td>00:00:00</td>\n",
       "      <td>50763</td>\n",
       "      <td>52119</td>\n",
       "      <td>50464</td>\n",
       "      <td>50706</td>\n",
       "      <td>1765283382</td>\n",
       "      <td>Mon</td>\n",
       "      <td>-0.11</td>\n",
       "      <td>2.79</td>\n",
       "      <td>0.48</td>\n",
       "      <td>3.18</td>\n",
       "      <td>short</td>\n",
       "    </tr>\n",
       "  </tbody>\n",
       "</table>\n",
       "</div>"
      ],
      "text/plain": [
       "            date      time   open   high    low  close      volume  day  \\\n",
       "0  Thu-23-Dec-21  00:00:00  48610  51432  48030  50794  2246508966  Thu   \n",
       "1  Fri-24-Dec-21  00:00:00  50794  51980  50402  50785  1837726929  Fri   \n",
       "2  Sat-25-Dec-21  00:00:00  50785  51149  50100  50406  1147589024  Sat   \n",
       "3  Sun-26-Dec-21  00:00:00  50406  51294  49283  50763  1676805639  Sun   \n",
       "4  Mon-27-Dec-21  00:00:00  50763  52119  50464  50706  1765283382  Mon   \n",
       "\n",
       "   change  high_to_close  low_to_close  high_to_low direction  \n",
       "0    4.49           1.26          5.44         6.61      long  \n",
       "1   -0.02           2.35          0.75         3.04     short  \n",
       "2   -0.75           1.47          0.61         2.05     short  \n",
       "3    0.71           1.05          2.92         3.92      long  \n",
       "4   -0.11           2.79          0.48         3.18     short  "
      ]
     },
     "execution_count": 95,
     "metadata": {},
     "output_type": "execute_result"
    }
   ],
   "source": [
    "btc.head()"
   ]
  },
  {
   "cell_type": "code",
   "execution_count": 96,
   "id": "b71756a1-c263-4fa1-b397-d64c44f4a0af",
   "metadata": {},
   "outputs": [],
   "source": [
    "month = []\n",
    "\n",
    "for row in btc[\"date\"]:\n",
    "    month.append(row.split(\"-\")[2])\n"
   ]
  },
  {
   "cell_type": "code",
   "execution_count": 97,
   "id": "4e6aeaa4-d609-4c02-a633-f540c1e1bade",
   "metadata": {},
   "outputs": [],
   "source": [
    "month_encoder = LabelEncoder()\n",
    "month = month_encoder.fit_transform(month)\n",
    "btc[\"month\"] = month"
   ]
  },
  {
   "cell_type": "code",
   "execution_count": 99,
   "id": "3de10da9-3ebf-45c1-88a3-023520fd416a",
   "metadata": {},
   "outputs": [],
   "source": [
    "X = btc.drop([\"date\", \"time\", \"open\", \"high\", \"low\", \"close\", \"day\", \"change\", \"high_to_close\", \"low_to_close\", \"high_to_low\", \"direction\"], axis = 1)\n",
    "X[\"days\"] = days\n",
    "y = [int(i) for i in btc.change]\n",
    "\n",
    "X_train, X_test, y_train, y_test = train_test_split(X, y)\n",
    "\n",
    "X_train = scaler.fit_transform(X_train)\n",
    "X_test = scaler.transform(X_test)"
   ]
  },
  {
   "cell_type": "code",
   "execution_count": 100,
   "id": "bc763288-4d8c-44a7-88a0-56b4055b2699",
   "metadata": {},
   "outputs": [
    {
     "name": "stderr",
     "output_type": "stream",
     "text": [
      "/opt/anaconda3/lib/python3.11/site-packages/sklearn/model_selection/_split.py:700: UserWarning: The least populated class in y has only 1 members, which is less than n_splits=10.\n",
      "  warnings.warn(\n"
     ]
    },
    {
     "data": {
      "text/plain": [
       "0.07423765636806867"
      ]
     },
     "execution_count": 100,
     "metadata": {},
     "output_type": "execute_result"
    }
   ],
   "source": [
    "rando4 = RandomForestClassifier()\n",
    "\n",
    "score4 = cross_val_score(rando4, X_train, y_train, cv = 10, scoring = \"f1_macro\")\n",
    "score4.mean()"
   ]
  },
  {
   "cell_type": "markdown",
   "id": "5cd9c136-13f0-4d56-afac-cc0889124bf3",
   "metadata": {},
   "source": [
    "Ok sorry, had to try adding in months and seeing what happens... what does it value btw?"
   ]
  },
  {
   "cell_type": "code",
   "execution_count": 106,
   "id": "a8afaf83-ce0d-4e07-b1c4-92021ba340e0",
   "metadata": {},
   "outputs": [
    {
     "name": "stdout",
     "output_type": "stream",
     "text": [
      "volume 0.6807755610588081\n",
      "month 0.1969890076989397\n",
      "days 0.12223543124225211\n"
     ]
    }
   ],
   "source": [
    "rando4 = rando4.fit(X_train, y_train)\n",
    "\n",
    "for name, score in zip(X.columns, rando4.feature_importances_):\n",
    "    print(name, score)"
   ]
  },
  {
   "cell_type": "markdown",
   "id": "b295c01c-5087-41c9-85c4-7827e873b461",
   "metadata": {},
   "source": [
    "### Attempt ∞"
   ]
  },
  {
   "cell_type": "code",
   "execution_count": 515,
   "id": "4ce8b23c-82bc-45e3-8e5f-d90d14226b16",
   "metadata": {},
   "outputs": [],
   "source": [
    "def rolling_avg(column, length):\n",
    "    \"\"\"\n",
    "    Calculates the moving average of length (length) on the series (column) passed\n",
    "    into the function\n",
    "    Params\n",
    "    column - the string name of a pandas column from your dataset\n",
    "    length - an int the length of the moving average\n",
    "    \"\"\"\n",
    "    rolling_avg = btc[column].rolling(length)\n",
    "\n",
    "    change_avgs = []\n",
    "\n",
    "    for line in rolling_avg:\n",
    "        tot = 0\n",
    "        for l in line:\n",
    "            tot += l\n",
    "        avg = tot / len(line)\n",
    "        change_avgs.append(round(avg,6))\n",
    "\n",
    "    # change_avgs.pop(len(change_avgs)-1)\n",
    "    return change_avgs\n",
    "\n"
   ]
  },
  {
   "cell_type": "code",
   "execution_count": 761,
   "id": "b4e7140c-7c26-44f6-8511-63f60c60148b",
   "metadata": {},
   "outputs": [],
   "source": [
    "def augment_columns(column):\n",
    "    ls_changes = [0]\n",
    "    \n",
    "    for change in btc[column]:\n",
    "        ls_changes.append(change)\n",
    "    \n",
    "    ls_changes.pop(len(ls_changes)-1)\n",
    "    return ls_changes"
   ]
  },
  {
   "cell_type": "code",
   "execution_count": 771,
   "id": "f43ada73-751d-43aa-9d78-e83d0b97ef99",
   "metadata": {},
   "outputs": [
    {
     "data": {
      "text/html": [
       "<div>\n",
       "<style scoped>\n",
       "    .dataframe tbody tr th:only-of-type {\n",
       "        vertical-align: middle;\n",
       "    }\n",
       "\n",
       "    .dataframe tbody tr th {\n",
       "        vertical-align: top;\n",
       "    }\n",
       "\n",
       "    .dataframe thead th {\n",
       "        text-align: right;\n",
       "    }\n",
       "</style>\n",
       "<table border=\"1\" class=\"dataframe\">\n",
       "  <thead>\n",
       "    <tr style=\"text-align: right;\">\n",
       "      <th></th>\n",
       "      <th>volume</th>\n",
       "      <th>day</th>\n",
       "      <th>change</th>\n",
       "      <th>high_to_close</th>\n",
       "      <th>low_to_close</th>\n",
       "      <th>high_to_low</th>\n",
       "      <th>direction</th>\n",
       "      <th>month</th>\n",
       "    </tr>\n",
       "  </thead>\n",
       "  <tbody>\n",
       "    <tr>\n",
       "      <th>0</th>\n",
       "      <td>2246508966</td>\n",
       "      <td>Thu</td>\n",
       "      <td>4.49</td>\n",
       "      <td>1.26</td>\n",
       "      <td>5.44</td>\n",
       "      <td>6.61</td>\n",
       "      <td>long</td>\n",
       "      <td>2</td>\n",
       "    </tr>\n",
       "    <tr>\n",
       "      <th>1</th>\n",
       "      <td>1837726929</td>\n",
       "      <td>Fri</td>\n",
       "      <td>-0.02</td>\n",
       "      <td>2.35</td>\n",
       "      <td>0.75</td>\n",
       "      <td>3.04</td>\n",
       "      <td>short</td>\n",
       "      <td>2</td>\n",
       "    </tr>\n",
       "    <tr>\n",
       "      <th>2</th>\n",
       "      <td>1147589024</td>\n",
       "      <td>Sat</td>\n",
       "      <td>-0.75</td>\n",
       "      <td>1.47</td>\n",
       "      <td>0.61</td>\n",
       "      <td>2.05</td>\n",
       "      <td>short</td>\n",
       "      <td>2</td>\n",
       "    </tr>\n",
       "    <tr>\n",
       "      <th>3</th>\n",
       "      <td>1676805639</td>\n",
       "      <td>Sun</td>\n",
       "      <td>0.71</td>\n",
       "      <td>1.05</td>\n",
       "      <td>2.92</td>\n",
       "      <td>3.92</td>\n",
       "      <td>long</td>\n",
       "      <td>2</td>\n",
       "    </tr>\n",
       "    <tr>\n",
       "      <th>4</th>\n",
       "      <td>1765283382</td>\n",
       "      <td>Mon</td>\n",
       "      <td>-0.11</td>\n",
       "      <td>2.79</td>\n",
       "      <td>0.48</td>\n",
       "      <td>3.18</td>\n",
       "      <td>short</td>\n",
       "      <td>2</td>\n",
       "    </tr>\n",
       "  </tbody>\n",
       "</table>\n",
       "</div>"
      ],
      "text/plain": [
       "       volume  day  change  high_to_close  low_to_close  high_to_low  \\\n",
       "0  2246508966  Thu    4.49           1.26          5.44         6.61   \n",
       "1  1837726929  Fri   -0.02           2.35          0.75         3.04   \n",
       "2  1147589024  Sat   -0.75           1.47          0.61         2.05   \n",
       "3  1676805639  Sun    0.71           1.05          2.92         3.92   \n",
       "4  1765283382  Mon   -0.11           2.79          0.48         3.18   \n",
       "\n",
       "  direction  month  \n",
       "0      long      2  \n",
       "1     short      2  \n",
       "2     short      2  \n",
       "3      long      2  \n",
       "4     short      2  "
      ]
     },
     "execution_count": 771,
     "metadata": {},
     "output_type": "execute_result"
    }
   ],
   "source": [
    "# Creating a smaller dataframe out of only a few features to test some ideas on\n",
    "btc_features = btc.drop([\"date\", \"time\", \"open\", \"high\", \"low\", \"close\"], axis = 1)\n",
    "btc_features.head()"
   ]
  },
  {
   "cell_type": "code",
   "execution_count": 1318,
   "id": "cc0ef5c9-740e-4133-8e96-fb2646de2477",
   "metadata": {},
   "outputs": [],
   "source": []
  },
  {
   "cell_type": "code",
   "execution_count": 1816,
   "id": "15123c70-3944-451d-9d13-ebd8d784b6e8",
   "metadata": {},
   "outputs": [],
   "source": [
    "# Transform our days using a labelencoder\n",
    "day_encoder = LabelEncoder()\n",
    "days = day_encoder.fit_transform(btc_features[\"day\"])\n",
    "\n",
    "direction_encoder = LabelEncoder()\n",
    "direction = dir_encoder.fit_transform(btc_features[\"direction\"])\n",
    "# dir_encoder.classes_"
   ]
  },
  {
   "cell_type": "code",
   "execution_count": 2084,
   "id": "5c2cd435-fd8d-45e8-bf53-0b5a016641e6",
   "metadata": {},
   "outputs": [
    {
     "data": {
      "text/html": [
       "<div>\n",
       "<style scoped>\n",
       "    .dataframe tbody tr th:only-of-type {\n",
       "        vertical-align: middle;\n",
       "    }\n",
       "\n",
       "    .dataframe tbody tr th {\n",
       "        vertical-align: top;\n",
       "    }\n",
       "\n",
       "    .dataframe thead th {\n",
       "        text-align: right;\n",
       "    }\n",
       "</style>\n",
       "<table border=\"1\" class=\"dataframe\">\n",
       "  <thead>\n",
       "    <tr style=\"text-align: right;\">\n",
       "      <th></th>\n",
       "      <th>chang_avg_short</th>\n",
       "      <th>new_changes</th>\n",
       "    </tr>\n",
       "  </thead>\n",
       "  <tbody>\n",
       "    <tr>\n",
       "      <th>0</th>\n",
       "      <td>4.490</td>\n",
       "      <td>0.00</td>\n",
       "    </tr>\n",
       "    <tr>\n",
       "      <th>1</th>\n",
       "      <td>2.235</td>\n",
       "      <td>4.49</td>\n",
       "    </tr>\n",
       "    <tr>\n",
       "      <th>2</th>\n",
       "      <td>1.240</td>\n",
       "      <td>-0.02</td>\n",
       "    </tr>\n",
       "    <tr>\n",
       "      <th>3</th>\n",
       "      <td>-0.020</td>\n",
       "      <td>-0.75</td>\n",
       "    </tr>\n",
       "    <tr>\n",
       "      <th>4</th>\n",
       "      <td>-0.050</td>\n",
       "      <td>0.71</td>\n",
       "    </tr>\n",
       "  </tbody>\n",
       "</table>\n",
       "</div>"
      ],
      "text/plain": [
       "   chang_avg_short  new_changes\n",
       "0            4.490         0.00\n",
       "1            2.235         4.49\n",
       "2            1.240        -0.02\n",
       "3           -0.020        -0.75\n",
       "4           -0.050         0.71"
      ]
     },
     "execution_count": 2084,
     "metadata": {},
     "output_type": "execute_result"
    }
   ],
   "source": [
    "# Create a new Dataframe for attempt ∞\n",
    "X = pd.DataFrame()\n",
    "\n",
    "# Add days as a column in our dataframe\n",
    "# X[\"days\"] = days\n",
    "\n",
    "# Assign short and long lengths for moving averages\n",
    "short_length = 3\n",
    "long_length = 10\n",
    "\n",
    "# Add moving averages to our dataframe\n",
    "X[\"chang_avg_short\"] = rolling_avg(\"change\", short_length)\n",
    "# X[\"high_avg_short\"] = rolling_avg(\"high_to_close\",short_length)\n",
    "# X[\"low_avg_short\"] = rolling_avg(\"low_to_close\",short_length)\n",
    "# X[\"mag_avg_short\"] = rolling_avg(\"high_to_low\",short_length)\n",
    "\n",
    "# X[\"chang_avg_long\"] = rolling_avg(\"change\",long_length)\n",
    "# X[\"high_avg_long\"] = rolling_avg(\"high_to_close\",long_length)\n",
    "# X[\"low_avg_long\"] = rolling_avg(\"low_to_close\",long_length)\n",
    "# X[\"mag_avg_long\"] = rolling_avg(\"high_to_low\",long_length)\n",
    "\n",
    "# Add the augmented versions of high, low, change, aguemented by one day, therefore they are the previous days values\n",
    "X[\"new_changes\"] = augment_columns(\"change\")\n",
    "# X[\"new_highs\"] = augment_columns(\"high_to_close\")\n",
    "# X[\"new_lows\"] = augment_columns(\"low_to_close\")\n",
    "\n",
    "# Inspect what we have done\n",
    "X.head()"
   ]
  },
  {
   "cell_type": "code",
   "execution_count": 2086,
   "id": "48148003-d1f4-4b2c-97df-62f71f68b356",
   "metadata": {},
   "outputs": [],
   "source": [
    "# Split the data for training\n",
    "X_train, X_test, y_train, y_test = train_test_split(X, direction, random_state = 42)\n",
    "\n",
    "# Scale the data\n",
    "X_train = scaler.fit_transform(X_train)\n",
    "X_test = scaler.transform(X_test)"
   ]
  },
  {
   "cell_type": "code",
   "execution_count": 2113,
   "id": "a7db0cbf-bd76-4d1b-8861-1c3cda83557d",
   "metadata": {},
   "outputs": [
    {
     "name": "stdout",
     "output_type": "stream",
     "text": [
      "0.747017543859649\n"
     ]
    }
   ],
   "source": [
    "### Create a randomForest and validate it's score\n",
    "# rnd_clf = RandomForestClassifier(random_state = 42)\n",
    "\n",
    "# rnd_clf_score = cross_val_score(rnd_clf, X_train, y_train, cv = 10, scoring = \"f1_macro\")\n",
    "# print(rnd_clf_score.mean())\n",
    "\n",
    "# ada_clf = AdaBoostClassifier(DecisionTreeClassifier(max_depth = 1), n_estimators = 200, algorithm=\"SAMME.R\", learning_rate=0.5)\n",
    "\n",
    "# ada_clf_score = cross_val_score(ada_clf, X_train, y_train, cv = 10, scoring = \"f1_macro\")\n",
    "# print(ada_clf_score.mean())\n",
    "\n",
    "# gbc_clf = GradientBoostingClassifier(max_depth = 2, n_estimators = 3, learning_rate = 1.0)\n",
    "\n",
    "# gbc_clf_score = cross_val_score(gbc_clf, X_train, y_train, cv = 10, scoring = \"f1_macro\")\n",
    "# print(gbc_clf_score.mean())\n",
    "\n",
    "sgd_clf = SGDClassifier(alpha=0.01, tol=0.001,random_state=42)\n",
    "\n",
    "sgd_clf_score = cross_val_score(sgd_clf, X_train, y_train, cv = 10, scoring = \"accuracy\")\n",
    "print(sgd_clf_score.mean())"
   ]
  },
  {
   "cell_type": "code",
   "execution_count": 2089,
   "id": "238f5e89-808a-440f-9dee-7c24a2c80a71",
   "metadata": {},
   "outputs": [
    {
     "data": {
      "text/plain": [
       "<sklearn.metrics._plot.confusion_matrix.ConfusionMatrixDisplay at 0x1568afad0>"
      ]
     },
     "execution_count": 2089,
     "metadata": {},
     "output_type": "execute_result"
    },
    {
     "data": {
      "image/png": "[encoded data removed]",
      "text/plain": [
       "<Figure size 640x480 with 2 Axes>"
      ]
     },
     "metadata": {},
     "output_type": "display_data"
    }
   ],
   "source": [
    "# rnd_clf.fit(X_train, y_train)\n",
    "# y_pred = rnd_clf.predict(X_test)\n",
    "# ConfusionMatrixDisplay.from_predictions(y_test, y_pred)\n",
    "\n",
    "sgd_clf.fit(X_train, y_train)\n",
    "y_pred = cross_val_predict(sgd_clf, X_train, y_train, cv = 10)\n",
    "ConfusionMatrixDisplay.from_predictions(y_train, y_pred)"
   ]
  },
  {
   "cell_type": "code",
   "execution_count": 2090,
   "id": "35c3875e-64a9-4a1a-be17-7f8560f6e220",
   "metadata": {},
   "outputs": [
    {
     "name": "stdout",
     "output_type": "stream",
     "text": [
      "      chang_avg_short  new_changes\n",
      "997          0.596667        -0.82\n",
      "998         -1.273333        -1.45\n",
      "999          0.196667        -1.55\n",
      "1000         0.656667         3.59\n",
      "1001         1.810000        -0.07\n"
     ]
    },
    {
     "data": {
      "text/html": [
       "<div>\n",
       "<style scoped>\n",
       "    .dataframe tbody tr th:only-of-type {\n",
       "        vertical-align: middle;\n",
       "    }\n",
       "\n",
       "    .dataframe tbody tr th {\n",
       "        vertical-align: top;\n",
       "    }\n",
       "\n",
       "    .dataframe thead th {\n",
       "        text-align: right;\n",
       "    }\n",
       "</style>\n",
       "<table border=\"1\" class=\"dataframe\">\n",
       "  <thead>\n",
       "    <tr style=\"text-align: right;\">\n",
       "      <th></th>\n",
       "      <th>date</th>\n",
       "      <th>time</th>\n",
       "      <th>open</th>\n",
       "      <th>high</th>\n",
       "      <th>low</th>\n",
       "      <th>close</th>\n",
       "      <th>volume</th>\n",
       "      <th>day</th>\n",
       "      <th>change</th>\n",
       "      <th>high_to_close</th>\n",
       "      <th>low_to_close</th>\n",
       "      <th>high_to_low</th>\n",
       "      <th>direction</th>\n",
       "      <th>month</th>\n",
       "    </tr>\n",
       "  </thead>\n",
       "  <tbody>\n",
       "    <tr>\n",
       "      <th>995</th>\n",
       "      <td>Fri-13-Sep-24</td>\n",
       "      <td>00:00:00</td>\n",
       "      <td>58105</td>\n",
       "      <td>60624</td>\n",
       "      <td>57579</td>\n",
       "      <td>60466</td>\n",
       "      <td>7579852994</td>\n",
       "      <td>Fri</td>\n",
       "      <td>4.06</td>\n",
       "      <td>0.26</td>\n",
       "      <td>4.77</td>\n",
       "      <td>5.02</td>\n",
       "      <td>long</td>\n",
       "      <td>11</td>\n",
       "    </tr>\n",
       "    <tr>\n",
       "      <th>996</th>\n",
       "      <td>Sat-14-Sep-24</td>\n",
       "      <td>00:00:00</td>\n",
       "      <td>60466</td>\n",
       "      <td>60584</td>\n",
       "      <td>59358</td>\n",
       "      <td>59968</td>\n",
       "      <td>3092231738</td>\n",
       "      <td>Sat</td>\n",
       "      <td>-0.82</td>\n",
       "      <td>1.03</td>\n",
       "      <td>1.02</td>\n",
       "      <td>2.02</td>\n",
       "      <td>short</td>\n",
       "      <td>11</td>\n",
       "    </tr>\n",
       "    <tr>\n",
       "      <th>997</th>\n",
       "      <td>Sun-15-Sep-24</td>\n",
       "      <td>00:00:00</td>\n",
       "      <td>59968</td>\n",
       "      <td>60393</td>\n",
       "      <td>58652</td>\n",
       "      <td>59101</td>\n",
       "      <td>3763712483</td>\n",
       "      <td>Sun</td>\n",
       "      <td>-1.45</td>\n",
       "      <td>2.19</td>\n",
       "      <td>0.76</td>\n",
       "      <td>2.88</td>\n",
       "      <td>short</td>\n",
       "      <td>11</td>\n",
       "    </tr>\n",
       "    <tr>\n",
       "      <th>998</th>\n",
       "      <td>Mon-16-Sep-24</td>\n",
       "      <td>00:00:00</td>\n",
       "      <td>59101</td>\n",
       "      <td>59182</td>\n",
       "      <td>57450</td>\n",
       "      <td>58185</td>\n",
       "      <td>7324801553</td>\n",
       "      <td>Mon</td>\n",
       "      <td>-1.55</td>\n",
       "      <td>1.71</td>\n",
       "      <td>1.26</td>\n",
       "      <td>2.93</td>\n",
       "      <td>short</td>\n",
       "      <td>11</td>\n",
       "    </tr>\n",
       "    <tr>\n",
       "      <th>999</th>\n",
       "      <td>Tue-17-Sep-24</td>\n",
       "      <td>00:00:00</td>\n",
       "      <td>58185</td>\n",
       "      <td>61330</td>\n",
       "      <td>57568</td>\n",
       "      <td>60275</td>\n",
       "      <td>9513245410</td>\n",
       "      <td>Tue</td>\n",
       "      <td>3.59</td>\n",
       "      <td>1.75</td>\n",
       "      <td>4.49</td>\n",
       "      <td>6.13</td>\n",
       "      <td>long</td>\n",
       "      <td>11</td>\n",
       "    </tr>\n",
       "    <tr>\n",
       "      <th>1000</th>\n",
       "      <td>Wed-18-Sep-24</td>\n",
       "      <td>00:00:00</td>\n",
       "      <td>60275</td>\n",
       "      <td>60747</td>\n",
       "      <td>59835</td>\n",
       "      <td>60231</td>\n",
       "      <td>1349677844</td>\n",
       "      <td>Wed</td>\n",
       "      <td>-0.07</td>\n",
       "      <td>0.86</td>\n",
       "      <td>0.66</td>\n",
       "      <td>1.50</td>\n",
       "      <td>short</td>\n",
       "      <td>11</td>\n",
       "    </tr>\n",
       "    <tr>\n",
       "      <th>1001</th>\n",
       "      <td>Thu-19-Sep-24</td>\n",
       "      <td>00:00:00</td>\n",
       "      <td>61744</td>\n",
       "      <td>63856</td>\n",
       "      <td>61524</td>\n",
       "      <td>62923</td>\n",
       "      <td>9254066053</td>\n",
       "      <td>Thu</td>\n",
       "      <td>1.91</td>\n",
       "      <td>1.48</td>\n",
       "      <td>2.22</td>\n",
       "      <td>3.65</td>\n",
       "      <td>long</td>\n",
       "      <td>11</td>\n",
       "    </tr>\n",
       "  </tbody>\n",
       "</table>\n",
       "</div>"
      ],
      "text/plain": [
       "               date      time   open   high    low  close      volume  day  \\\n",
       "995   Fri-13-Sep-24  00:00:00  58105  60624  57579  60466  7579852994  Fri   \n",
       "996   Sat-14-Sep-24  00:00:00  60466  60584  59358  59968  3092231738  Sat   \n",
       "997   Sun-15-Sep-24  00:00:00  59968  60393  58652  59101  3763712483  Sun   \n",
       "998   Mon-16-Sep-24  00:00:00  59101  59182  57450  58185  7324801553  Mon   \n",
       "999   Tue-17-Sep-24  00:00:00  58185  61330  57568  60275  9513245410  Tue   \n",
       "1000  Wed-18-Sep-24  00:00:00  60275  60747  59835  60231  1349677844  Wed   \n",
       "1001  Thu-19-Sep-24  00:00:00  61744  63856  61524  62923  9254066053  Thu   \n",
       "\n",
       "      change  high_to_close  low_to_close  high_to_low direction  month  \n",
       "995     4.06           0.26          4.77         5.02      long     11  \n",
       "996    -0.82           1.03          1.02         2.02     short     11  \n",
       "997    -1.45           2.19          0.76         2.88     short     11  \n",
       "998    -1.55           1.71          1.26         2.93     short     11  \n",
       "999     3.59           1.75          4.49         6.13      long     11  \n",
       "1000   -0.07           0.86          0.66         1.50     short     11  \n",
       "1001    1.91           1.48          2.22         3.65      long     11  "
      ]
     },
     "execution_count": 2090,
     "metadata": {},
     "output_type": "execute_result"
    }
   ],
   "source": [
    "print(X.tail())\n",
    "btc.tail(7)"
   ]
  },
  {
   "cell_type": "code",
   "execution_count": 2091,
   "id": "07e9f9a5-f534-414d-9cb7-2efde757eaa3",
   "metadata": {},
   "outputs": [
    {
     "data": {
      "text/plain": [
       "'short'"
      ]
     },
     "execution_count": 2091,
     "metadata": {},
     "output_type": "execute_result"
    }
   ],
   "source": [
    "\n",
    "# Percent change is taking the moving average for a longer period than what is being used as a feature in the classifier\n",
    "# and inputing it as one of the parameters for predictioin. The reason we need this is because this sgd model is using\n",
    "# The last three day moving average as a feature yet we dont have the current days % change moving average until the day\n",
    "# ends, therefore we need to source a different average that should be close to the 3 day, but more general as to add as\n",
    "# little bias as possible to the predict.... that's what this is.\n",
    "percent_change = rolling_avg(\"change\",long_length)[len(rolling_avg(\"change\",long_length))-1]\n",
    "\n",
    "# Predicting the current days market direction, first parameter explained above, second is what the daily closed the morning \n",
    "# of this day.\n",
    "trade = sgd_clf.predict([[percent_change, 1.91]])\n",
    "\n",
    "trade = dir_encoder.classes_[trade[0]]\n",
    "# day_encoder.classes_\n",
    "trade"
   ]
  },
  {
   "cell_type": "code",
   "execution_count": 2093,
   "id": "00f68c7d-48f7-4be2-8ceb-59b06ec11ff7",
   "metadata": {},
   "outputs": [],
   "source": [
    "# Calculate a 7 day avg of change and try classify on that\n",
    "# Figure out a way to make a regressor that we put in a pervious days or weeks set of details or avgs \n",
    "# and have it output a prediction on % change the next day"
   ]
  },
  {
   "cell_type": "code",
   "execution_count": 2094,
   "id": "cf55dece-c357-4e81-a923-c54d16c45d46",
   "metadata": {},
   "outputs": [],
   "source": [
    "# rnd_clf = rnd_clf.fit(X_train, y_train)\n",
    "\n",
    "# for name, score in zip(X.columns, rnd_clf.feature_importances_):\n",
    "#     print(name, score)"
   ]
  },
  {
   "cell_type": "code",
   "execution_count": 2097,
   "id": "3d50d787-280d-4f46-ac38-7ee9c0952156",
   "metadata": {},
   "outputs": [
    {
     "name": "stdout",
     "output_type": "stream",
     "text": [
      "Today's trade is a short with an entry at 62923 a stop at 63781 and a target of 61377\n"
     ]
    }
   ],
   "source": [
    "# Figures out what the trade for the day is\n",
    "\n",
    "high = rolling_avg(\"high_to_close\",short_length)\n",
    "low = rolling_avg(\"low_to_close\",short_length)\n",
    "\n",
    "high = high[len(high)-1]\n",
    "low = low[len(low)-1]\n",
    "\n",
    "target = 0\n",
    "stop = 0\n",
    "entry = btc[\"close\"][len(btc)-1]\n",
    "if trade == \"long\":\n",
    "    target = high /100 * entry + entry\n",
    "    stop = entry - (low /100 * entry)\n",
    "else:\n",
    "    target = entry - (low /100 * entry)\n",
    "    stop = high /100 * entry + entry\n",
    "\n",
    "print(f\"Today's trade is a {trade} with an entry at {entry} a stop at {round(stop)} and a target of {round(target)}\")"
   ]
  },
  {
   "cell_type": "markdown",
   "id": "94b62ebd-3c87-498e-8d75-5788750292e4",
   "metadata": {},
   "source": [
    "This is kinda at a point where I either build a bot to execute trades on it or bin this plan and go do some neural network stuff for this problem"
   ]
  },
  {
   "cell_type": "code",
   "execution_count": 2102,
   "id": "abfedbb4-37e7-4899-9dea-738fe1a31908",
   "metadata": {},
   "outputs": [
    {
     "data": {
      "text/html": [
       "<div>\n",
       "<style scoped>\n",
       "    .dataframe tbody tr th:only-of-type {\n",
       "        vertical-align: middle;\n",
       "    }\n",
       "\n",
       "    .dataframe tbody tr th {\n",
       "        vertical-align: top;\n",
       "    }\n",
       "\n",
       "    .dataframe thead th {\n",
       "        text-align: right;\n",
       "    }\n",
       "</style>\n",
       "<table border=\"1\" class=\"dataframe\">\n",
       "  <thead>\n",
       "    <tr style=\"text-align: right;\">\n",
       "      <th></th>\n",
       "      <th>chang_avg_short</th>\n",
       "      <th>new_changes</th>\n",
       "      <th>chang_avg_long</th>\n",
       "      <th>direction</th>\n",
       "    </tr>\n",
       "  </thead>\n",
       "  <tbody>\n",
       "    <tr>\n",
       "      <th>0</th>\n",
       "      <td>4.490000</td>\n",
       "      <td>0.00</td>\n",
       "      <td>4.4900</td>\n",
       "      <td>0</td>\n",
       "    </tr>\n",
       "    <tr>\n",
       "      <th>1</th>\n",
       "      <td>2.235000</td>\n",
       "      <td>4.49</td>\n",
       "      <td>2.2350</td>\n",
       "      <td>1</td>\n",
       "    </tr>\n",
       "    <tr>\n",
       "      <th>2</th>\n",
       "      <td>1.240000</td>\n",
       "      <td>-0.02</td>\n",
       "      <td>1.2400</td>\n",
       "      <td>1</td>\n",
       "    </tr>\n",
       "    <tr>\n",
       "      <th>3</th>\n",
       "      <td>-0.020000</td>\n",
       "      <td>-0.75</td>\n",
       "      <td>1.1075</td>\n",
       "      <td>0</td>\n",
       "    </tr>\n",
       "    <tr>\n",
       "      <th>4</th>\n",
       "      <td>-0.050000</td>\n",
       "      <td>0.71</td>\n",
       "      <td>0.8640</td>\n",
       "      <td>1</td>\n",
       "    </tr>\n",
       "    <tr>\n",
       "      <th>...</th>\n",
       "      <td>...</td>\n",
       "      <td>...</td>\n",
       "      <td>...</td>\n",
       "      <td>...</td>\n",
       "    </tr>\n",
       "    <tr>\n",
       "      <th>997</th>\n",
       "      <td>0.596667</td>\n",
       "      <td>-0.82</td>\n",
       "      <td>0.5390</td>\n",
       "      <td>1</td>\n",
       "    </tr>\n",
       "    <tr>\n",
       "      <th>998</th>\n",
       "      <td>-1.273333</td>\n",
       "      <td>-1.45</td>\n",
       "      <td>0.7790</td>\n",
       "      <td>1</td>\n",
       "    </tr>\n",
       "    <tr>\n",
       "      <th>999</th>\n",
       "      <td>0.196667</td>\n",
       "      <td>-1.55</td>\n",
       "      <td>1.1000</td>\n",
       "      <td>0</td>\n",
       "    </tr>\n",
       "    <tr>\n",
       "      <th>1000</th>\n",
       "      <td>0.656667</td>\n",
       "      <td>3.59</td>\n",
       "      <td>0.9620</td>\n",
       "      <td>1</td>\n",
       "    </tr>\n",
       "    <tr>\n",
       "      <th>1001</th>\n",
       "      <td>1.810000</td>\n",
       "      <td>-0.07</td>\n",
       "      <td>0.7580</td>\n",
       "      <td>0</td>\n",
       "    </tr>\n",
       "  </tbody>\n",
       "</table>\n",
       "<p>1002 rows × 4 columns</p>\n",
       "</div>"
      ],
      "text/plain": [
       "      chang_avg_short  new_changes  chang_avg_long  direction\n",
       "0            4.490000         0.00          4.4900          0\n",
       "1            2.235000         4.49          2.2350          1\n",
       "2            1.240000        -0.02          1.2400          1\n",
       "3           -0.020000        -0.75          1.1075          0\n",
       "4           -0.050000         0.71          0.8640          1\n",
       "...               ...          ...             ...        ...\n",
       "997          0.596667        -0.82          0.5390          1\n",
       "998         -1.273333        -1.45          0.7790          1\n",
       "999          0.196667        -1.55          1.1000          0\n",
       "1000         0.656667         3.59          0.9620          1\n",
       "1001         1.810000        -0.07          0.7580          0\n",
       "\n",
       "[1002 rows x 4 columns]"
      ]
     },
     "execution_count": 2102,
     "metadata": {},
     "output_type": "execute_result"
    }
   ],
   "source": [
    "\n",
    "X[\"chang_avg_long\"] = rolling_avg(\"change\",long_length)\n",
    "X[\"direction\"] = direction\n",
    "X"
   ]
  },
  {
   "cell_type": "code",
   "execution_count": 2103,
   "id": "def2fcfd-2222-4da0-90ed-6db272febba9",
   "metadata": {},
   "outputs": [
    {
     "name": "stdout",
     "output_type": "stream",
     "text": [
      "1002 163\n"
     ]
    }
   ],
   "source": [
    "correct = 0\n",
    "all = 0\n",
    "for row in range(len(X)):\n",
    "    prediction = sgd_clf.predict([[X[\"chang_avg_long\"][row], btc[\"change\"][row]]])\n",
    "\n",
    "    if prediction[0] == X[\"direction\"][row]:\n",
    "        correct += 1\n",
    "    all += 1\n",
    "\n",
    "print(all, correct)"
   ]
  },
  {
   "cell_type": "markdown",
   "id": "6ff87241-7bf0-40e5-a94e-54fd5c269f6b",
   "metadata": {},
   "source": [
    "Ok this little experiment kinda put the nail in the coffin.... right now it is meant to have 74% accuracy, but when calling predict on the entire set and<br>\n",
    "passing in what would be the correct second parameter of the next days change % and the first parameter of a slightly longer caalculated average of change<br>\n",
    "we only are able to get 163  out of 1000 trades right... 16% is not good at all and something doesn't seem right for a classifier that can get 75% f1_score?"
   ]
  },
  {
   "cell_type": "code",
   "execution_count": null,
   "id": "a5325d2d-73b9-493e-a582-f5609116e4a6",
   "metadata": {},
   "outputs": [],
   "source": []
  },
  {
   "cell_type": "code",
   "execution_count": null,
   "id": "f3bd28af-87db-4f8f-8aa2-01f1a2542613",
   "metadata": {},
   "outputs": [],
   "source": []
  },
  {
   "cell_type": "code",
   "execution_count": null,
   "id": "be2c853e-0844-4b0b-bde4-0c0fd4916ae6",
   "metadata": {},
   "outputs": [],
   "source": []
  },
  {
   "cell_type": "code",
   "execution_count": null,
   "id": "02b17f3a-b39d-4b7f-a69a-5a60fa908de7",
   "metadata": {},
   "outputs": [],
   "source": []
  }
 ],
 "metadata": {
  "kernelspec": {
   "display_name": "Python 3 (ipykernel)",
   "language": "python",
   "name": "python3"
  },
  "language_info": {
   "codemirror_mode": {
    "name": "ipython",
    "version": 3
   },
   "file_extension": ".py",
   "mimetype": "text/x-python",
   "name": "python",
   "nbconvert_exporter": "python",
   "pygments_lexer": "ipython3",
   "version": "3.11.7"
  }
 },
 "nbformat": 4,
 "nbformat_minor": 5
}
