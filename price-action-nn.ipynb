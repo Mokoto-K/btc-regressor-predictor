{
 "cells": [
  {
   "cell_type": "code",
   "execution_count": 1069,
   "id": "902d7e79-eb5a-4d8e-a20a-fc88070bc289",
   "metadata": {},
   "outputs": [],
   "source": [
    "from tensorflow import keras, config\n",
    "import tensorflow as tf\n",
    "import pandas as pd\n",
    "from sklearn.model_selection import train_test_split\n",
    "from sklearn.preprocessing import LabelEncoder\n",
    "import matplotlib.pyplot as plt\n",
    "import numpy as np\n",
    "\n",
    "# Set a global random state so that the nn gives the same results each time\n",
    "keras.utils.set_random_seed(69)\n",
    "\n",
    "# If using TensorFlow, this will make GPU ops as deterministic as possible,\n",
    "# but it will affect the overall performance, so be mindful of that.\n",
    "config.experimental.enable_op_determinism()"
   ]
  },
  {
   "cell_type": "code",
   "execution_count": null,
   "id": "30815cfb-3ed5-42fa-880f-dd2de83e757a",
   "metadata": {},
   "outputs": [],
   "source": []
  },
  {
   "cell_type": "markdown",
   "id": "af97d4bc-d15d-4df9-8ea0-1ef7937c7cda",
   "metadata": {},
   "source": [
    "## Data analysis"
   ]
  },
  {
   "cell_type": "code",
   "execution_count": 1070,
   "id": "397c5f54-3f94-4889-a63e-5de6471a5556",
   "metadata": {},
   "outputs": [],
   "source": [
    "csv_path: str = \"./BTC-1D-PRICE-HISTORY.csv\"\n",
    "price_data = pd.read_csv(csv_path)"
   ]
  },
  {
   "cell_type": "markdown",
   "id": "d64dc710-fa5f-4b30-bef8-1ab0a34bc7d9",
   "metadata": {},
   "source": [
    "## Features"
   ]
  },
  {
   "cell_type": "code",
   "execution_count": 1071,
   "id": "5571aa51-bc95-42fb-9b17-0e54b406afab",
   "metadata": {},
   "outputs": [],
   "source": [
    "price_open = price_data.open\n",
    "price_close = price_data.close\n",
    "price_high = price_data.high\n",
    "price_low = price_data.low\n",
    "price_vol = price_data.volume"
   ]
  },
  {
   "cell_type": "markdown",
   "id": "4267fae9-2357-4f88-86b3-4860105ba9c1",
   "metadata": {},
   "source": [
    "#### Create label targets"
   ]
  },
  {
   "cell_type": "code",
   "execution_count": 1072,
   "id": "e2b03b7b-fa31-460b-9b17-3d5e3c570219",
   "metadata": {},
   "outputs": [],
   "source": [
    "target = []\n",
    "\n",
    "for row in range(len(price_open)):\n",
    "    \n",
    "    if price_close[row] - price_open[row] > 0:\n",
    "        target.append(\"long\")\n",
    "    else:\n",
    "        target.append(\"short\")\n",
    "\n",
    "price_data[\"target\"] = target"
   ]
  },
  {
   "cell_type": "markdown",
   "id": "ae8b3df9-5eb0-47ba-9d4a-5c27cbcd1c13",
   "metadata": {},
   "source": [
    "#### Add days and months from date col"
   ]
  },
  {
   "cell_type": "code",
   "execution_count": 1073,
   "id": "e3826e6d-a17b-45a2-bd48-d8751aeeac66",
   "metadata": {},
   "outputs": [],
   "source": [
    "dates = price_data.date\n",
    "day_list = []\n",
    "month_list = []\n",
    "\n",
    "for row in dates:\n",
    "    day = row.split(\"-\")[0]\n",
    "    month = row.split(\"-\")[2]\n",
    "\n",
    "    day_list.append(day)\n",
    "    month_list.append(month)\n",
    "\n",
    "price_data[\"day\"] = day_list\n",
    "price_data[\"month\"] = month_list"
   ]
  },
  {
   "cell_type": "code",
   "execution_count": 1074,
   "id": "d766b4e9-2217-463f-8b97-46888732308e",
   "metadata": {},
   "outputs": [],
   "source": [
    "price_data = price_data.drop([\"date\", \"time\"], axis=1)"
   ]
  },
  {
   "cell_type": "markdown",
   "id": "a1426863-aa3d-4cee-a875-b27faa215c5d",
   "metadata": {},
   "source": [
    "#### Daily change (Feature)"
   ]
  },
  {
   "cell_type": "code",
   "execution_count": 1075,
   "id": "162d0724-4707-4214-bac9-76ffcdefc614",
   "metadata": {},
   "outputs": [],
   "source": [
    "daily_change = [0]\n",
    "\n",
    "for row in range(len(price_open)):\n",
    "\n",
    "    if row == 0:\n",
    "        continue\n",
    "\n",
    "    change = (price_open[row] - price_open[row-1]) / price_open[row - 1] * 100\n",
    "    daily_change.append(round(change,8))\n",
    "\n",
    "price_data[\"daily_change\"] = daily_change"
   ]
  },
  {
   "cell_type": "markdown",
   "id": "f21f08e9-edd8-4db2-a3d5-72fe7ad7aad9",
   "metadata": {},
   "source": [
    "#### Volitility (Feature) *Currently not used"
   ]
  },
  {
   "cell_type": "code",
   "execution_count": 1076,
   "id": "b02b61d7-adb5-41a5-a101-412afec7bfa2",
   "metadata": {},
   "outputs": [],
   "source": [
    "volitility = [0, 0 ]\n",
    "\n",
    "for row in range(len(price_high)):\n",
    "\n",
    "    if row == 0 or row == 1:\n",
    "        continue\n",
    "\n",
    "    vol = (price_high[row-2] - price_low[row-2]) /100\n",
    "    volitility.append(vol)\n",
    "\n",
    "price_data[\"volitility\"] = volitility\n",
    "\n"
   ]
  },
  {
   "cell_type": "code",
   "execution_count": 1077,
   "id": "da408dfa-491f-4a5e-bd8b-5e04a9dafe08",
   "metadata": {},
   "outputs": [],
   "source": [
    "highs = [0, 0]\n",
    "lows = [0, 0]\n",
    "highs_from_open = [0, 0]\n",
    "lows_from_open = [0, 0]\n",
    "\n",
    "for row in range(len(price_high)):\n",
    "\n",
    "    if row == 0 or row == 1:\n",
    "        continue\n",
    "\n",
    "    highs.append(price_high[row-2]/1000)\n",
    "    lows.append(price_low[row-2]/1000)\n",
    "\n",
    "    highs_from_open.append((price_high[row-2]-price_open[row-2])/10000)\n",
    "    lows_from_open.append((price_low[row-2]-price_open[row-2])/10000)\n",
    "# lows from open and highs from open\n",
    "price_data[\"high\"] = highs\n",
    "price_data[\"low\"] = lows\n",
    "\n",
    "price_data[\"highs_from_open\"] = highs_from_open\n",
    "price_data[\"lows_from_open\"] = lows_from_open"
   ]
  },
  {
   "cell_type": "code",
   "execution_count": null,
   "id": "0b4db0c8-cfe9-4bf4-974e-4b5d267aa7ed",
   "metadata": {},
   "outputs": [],
   "source": []
  },
  {
   "cell_type": "code",
   "execution_count": 1078,
   "id": "50dfd9d5-9747-403b-9b63-8d0883aeeef6",
   "metadata": {},
   "outputs": [
    {
     "data": {
      "text/html": [
       "<div>\n",
       "<style scoped>\n",
       "    .dataframe tbody tr th:only-of-type {\n",
       "        vertical-align: middle;\n",
       "    }\n",
       "\n",
       "    .dataframe tbody tr th {\n",
       "        vertical-align: top;\n",
       "    }\n",
       "\n",
       "    .dataframe thead th {\n",
       "        text-align: right;\n",
       "    }\n",
       "</style>\n",
       "<table border=\"1\" class=\"dataframe\">\n",
       "  <thead>\n",
       "    <tr style=\"text-align: right;\">\n",
       "      <th></th>\n",
       "      <th>open</th>\n",
       "      <th>high</th>\n",
       "      <th>low</th>\n",
       "      <th>close</th>\n",
       "      <th>volume</th>\n",
       "      <th>target</th>\n",
       "      <th>day</th>\n",
       "      <th>month</th>\n",
       "      <th>daily_change</th>\n",
       "      <th>volitility</th>\n",
       "      <th>highs_from_open</th>\n",
       "      <th>lows_from_open</th>\n",
       "    </tr>\n",
       "  </thead>\n",
       "  <tbody>\n",
       "    <tr>\n",
       "      <th>1023</th>\n",
       "      <td>60296</td>\n",
       "      <td>62.525</td>\n",
       "      <td>60.266</td>\n",
       "      <td>62500</td>\n",
       "      <td>7.186594</td>\n",
       "      <td>long</td>\n",
       "      <td>Fri</td>\n",
       "      <td>Oct</td>\n",
       "      <td>-0.514784</td>\n",
       "      <td>22.59</td>\n",
       "      <td>0.0404</td>\n",
       "      <td>-0.1855</td>\n",
       "    </tr>\n",
       "    <tr>\n",
       "      <th>1024</th>\n",
       "      <td>62500</td>\n",
       "      <td>61.288</td>\n",
       "      <td>58.900</td>\n",
       "      <td>63178</td>\n",
       "      <td>8.572275</td>\n",
       "      <td>long</td>\n",
       "      <td>Sat</td>\n",
       "      <td>Oct</td>\n",
       "      <td>3.655301</td>\n",
       "      <td>23.88</td>\n",
       "      <td>0.0680</td>\n",
       "      <td>-0.1708</td>\n",
       "    </tr>\n",
       "    <tr>\n",
       "      <th>1025</th>\n",
       "      <td>63178</td>\n",
       "      <td>63.436</td>\n",
       "      <td>60.064</td>\n",
       "      <td>62839</td>\n",
       "      <td>8.614548</td>\n",
       "      <td>short</td>\n",
       "      <td>Sun</td>\n",
       "      <td>Oct</td>\n",
       "      <td>1.084800</td>\n",
       "      <td>33.72</td>\n",
       "      <td>0.3140</td>\n",
       "      <td>-0.0232</td>\n",
       "    </tr>\n",
       "    <tr>\n",
       "      <th>1026</th>\n",
       "      <td>62839</td>\n",
       "      <td>63.467</td>\n",
       "      <td>62.458</td>\n",
       "      <td>66080</td>\n",
       "      <td>3.585749</td>\n",
       "      <td>long</td>\n",
       "      <td>Mon</td>\n",
       "      <td>Oct</td>\n",
       "      <td>-0.536579</td>\n",
       "      <td>10.09</td>\n",
       "      <td>0.0967</td>\n",
       "      <td>-0.0042</td>\n",
       "    </tr>\n",
       "    <tr>\n",
       "      <th>1027</th>\n",
       "      <td>66080</td>\n",
       "      <td>63.270</td>\n",
       "      <td>62.012</td>\n",
       "      <td>65997</td>\n",
       "      <td>4.559809</td>\n",
       "      <td>short</td>\n",
       "      <td>Tue</td>\n",
       "      <td>Oct</td>\n",
       "      <td>5.157625</td>\n",
       "      <td>12.58</td>\n",
       "      <td>0.0092</td>\n",
       "      <td>-0.1166</td>\n",
       "    </tr>\n",
       "  </tbody>\n",
       "</table>\n",
       "</div>"
      ],
      "text/plain": [
       "       open    high     low  close    volume target  day month  daily_change  \\\n",
       "1023  60296  62.525  60.266  62500  7.186594   long  Fri   Oct     -0.514784   \n",
       "1024  62500  61.288  58.900  63178  8.572275   long  Sat   Oct      3.655301   \n",
       "1025  63178  63.436  60.064  62839  8.614548  short  Sun   Oct      1.084800   \n",
       "1026  62839  63.467  62.458  66080  3.585749   long  Mon   Oct     -0.536579   \n",
       "1027  66080  63.270  62.012  65997  4.559809  short  Tue   Oct      5.157625   \n",
       "\n",
       "      volitility  highs_from_open  lows_from_open  \n",
       "1023       22.59           0.0404         -0.1855  \n",
       "1024       23.88           0.0680         -0.1708  \n",
       "1025       33.72           0.3140         -0.0232  \n",
       "1026       10.09           0.0967         -0.0042  \n",
       "1027       12.58           0.0092         -0.1166  "
      ]
     },
     "execution_count": 1078,
     "metadata": {},
     "output_type": "execute_result"
    }
   ],
   "source": [
    "volume = [0, 0]\n",
    "\n",
    "for row in range(len(price_vol)):\n",
    "\n",
    "    if row == 0 or row == 1:\n",
    "        continue\n",
    "    \n",
    "    volume.append(price_vol[row-2]/1000000000)\n",
    "    \n",
    "price_data[\"volume\"] = volume\n",
    "price_data.tail(5)"
   ]
  },
  {
   "cell_type": "code",
   "execution_count": null,
   "id": "9b7d930f-a832-4b1f-9fa2-9618d7d15274",
   "metadata": {},
   "outputs": [],
   "source": []
  },
  {
   "cell_type": "markdown",
   "id": "e3bf4dc3-e195-4553-911f-6d37ce0fc81b",
   "metadata": {},
   "source": [
    "## ML Workflow"
   ]
  },
  {
   "cell_type": "markdown",
   "id": "d8bf81d2-55a9-4615-bef6-ccdf178fed1c",
   "metadata": {},
   "source": [
    "#### Encoding"
   ]
  },
  {
   "cell_type": "code",
   "execution_count": 1079,
   "id": "85d29fce-70ae-4ccb-8f0d-646ef3e07d79",
   "metadata": {},
   "outputs": [],
   "source": [
    "# Ecode all text features to numbers for the nn to use\n",
    "\n",
    "day_encoder = LabelEncoder()\n",
    "month_encoder = LabelEncoder()\n",
    "target_encoder = LabelEncoder()\n",
    "\n",
    "day = day_encoder.fit_transform(price_data.day)\n",
    "price_data[\"day\"] = day\n",
    "\n",
    "month = month_encoder.fit_transform(price_data.month)\n",
    "price_data[\"month\"] = month\n",
    "\n",
    "target = target_encoder.fit_transform(price_data.target)\n",
    "price_data[\"target\"] = target"
   ]
  },
  {
   "cell_type": "code",
   "execution_count": null,
   "id": "185d849b-2992-4f93-b4e7-46cb67b881bb",
   "metadata": {},
   "outputs": [],
   "source": []
  },
  {
   "cell_type": "code",
   "execution_count": 1080,
   "id": "af5e86c6-df82-48f9-b3ea-e4710db89d3f",
   "metadata": {},
   "outputs": [],
   "source": [
    "# Select the features to be used in training the nn\n",
    "X = price_data.filter([\"day\", \"month\", \"daily_change\",  \"volitility\",\"volume\", \"highs_from_open\", \"lows_from_open\", \"target\",]) # \"volume\", \"low\", \"high\", \"volitility\", \"highs_from_open\", \"lows_from_open\"\n",
    "# Split the training and test sets\n",
    "X_train_full, X_test, y_train_full, y_test = train_test_split(X.drop(\"target\", axis=1), X.target ,random_state = 42)\n",
    "\n",
    "# Split the alidation and training sets\n",
    "X_val, X_train = X_train_full[:100], X_train_full[100:]\n",
    "y_val, y_train = y_train_full[:100], y_train_full[100:]\n",
    "\n",
    "# Get the number of features in the dataset by isolating the second number in \"shape\", this is needed to feed into the\n",
    "# NN inputlayer\n",
    "input_shape = X_train_full.shape[1]"
   ]
  },
  {
   "cell_type": "code",
   "execution_count": 1081,
   "id": "1b2b38b7-b147-47b1-92ba-ae0a0a7dca74",
   "metadata": {},
   "outputs": [],
   "source": [
    "# from sklearn.preprocessing import StandardScaler\n",
    "\n",
    "# scaler = StandardScaler()\n",
    "# X_train = scaler.fit_transform(X_train)\n",
    "# X_val = scaler.transform(X_val)\n",
    "# X_test = scaler.transform(X_test)"
   ]
  },
  {
   "cell_type": "markdown",
   "id": "69fa91df-8b7c-473c-92ad-e410d2ece824",
   "metadata": {},
   "source": [
    "#### NN model"
   ]
  },
  {
   "cell_type": "code",
   "execution_count": 1082,
   "id": "c0c55eca-8cea-4476-853e-ea47422512c3",
   "metadata": {},
   "outputs": [],
   "source": [
    "# Build the nn model\n",
    "\n",
    "#1\n",
    "#train 61, vval 64, test, 60 loss 6834, epoch 475\n",
    "# model = keras.models.Sequential([\n",
    "#               keras.layers.InputLayer(shape=(input_shape,)),         \n",
    "#               keras.layers.Dense(73, activation=\"relu\"),\n",
    "#               keras.layers.Dense(51, activation=\"relu\"), \n",
    "#               keras.layers.Dense(25, activation=\"relu\"), \n",
    "#               keras.layers.Dense(5, activation=\"relu\"),\n",
    "#               keras.layers.Dense(2, activation=\"softmax\")\n",
    "#           ])\n",
    "\n",
    "\n",
    "#2\n",
    "# train:62, val: 60, test: 59, loss 6809, e:175\n",
    "# model = keras.models.Sequential([\n",
    "#     keras.layers.InputLayer(shape=(input_shape,)), \n",
    "#     keras.layers.Dense(357, activation=\"relu\"),\n",
    "#     keras.layers.Dense(325, activation=\"relu\"),\n",
    "#     keras.layers.Dense(95, activation=\"relu\"),\n",
    "#     keras.layers.Dense(25, activation=\"relu\"),\n",
    "#     keras.layers.Dense(2, activation=\"softmax\")\n",
    "#           ])\n",
    "\n",
    "#3\n",
    "#train 62 6698, val 59 6682, test 59 6858 epoch 250\n",
    "# model = keras.models.Sequential([\n",
    "#     keras.layers.InputLayer(shape=(input_shape,)), \n",
    "#     keras.layers.Dense(175, activation=\"relu\"),\n",
    "#     keras.layers.Dense(101, activation=\"relu\"),\n",
    "#     keras.layers.Dense(77, activation=\"relu\"),\n",
    "#     keras.layers.Dense(25, activation=\"relu\"),\n",
    "#     keras.layers.Dense(2, activation=\"softmax\")\n",
    "#           ])\n",
    "\n",
    "# 57 275 but better all round\n",
    "# model = keras.models.Sequential([\n",
    "#               keras.layers.InputLayer(shape=(input_shape,)), \n",
    "#               keras.layers.Dense(101, activation=\"relu\"), \n",
    "#               keras.layers.Dense(71, activation=\"relu\"),\n",
    "#               keras.layers.Dense(25, activation=\"relu\"), \n",
    "#               keras.layers.Dense(2, activation=\"softmax\")\n",
    "#           ])\n",
    "\n",
    "#57 350\n",
    "# model = keras.models.Sequential([\n",
    "#               keras.layers.InputLayer(shape=(input_shape,)), \n",
    "#               keras.layers.Dense(301, activation=\"relu\"), \n",
    "#               keras.layers.Dense(101, activation=\"relu\"),\n",
    "#               keras.layers.Dense(75, activation=\"relu\"),\n",
    "#               keras.layers.Dense(25, activation=\"relu\"),\n",
    "#               keras.layers.Dense(2, activation=\"softmax\")\n",
    "#           ])\n",
    "\n",
    "# 57 150\n",
    "# model = keras.models.Sequential([\n",
    "#     keras.layers.InputLayer(shape=(input_shape,)), \n",
    "#     keras.layers.Dense(955, activation=\"relu\"),\n",
    "#     keras.layers.Dense(505, activation=\"relu\"),\n",
    "#     keras.layers.Dense(25, activation=\"relu\"),\n",
    "#               keras.layers.Dense(2, activation=\"softmax\")\n",
    "#           ])\n",
    "\n"
   ]
  },
  {
   "cell_type": "code",
   "execution_count": 1083,
   "id": "2714cb9d-bae2-4e73-92bd-44b01ea6cdfc",
   "metadata": {},
   "outputs": [],
   "source": [
    "# model.compile(loss=\"binary_crossentropy\",\n",
    "#              optimizer=keras.optimizers.SGD(learning_rate=0.001),\n",
    "#              metrics=[\"accuracy\"])\n",
    "\n",
    "model.compile(loss=\"sparse_categorical_crossentropy\",\n",
    "             optimizer=keras.optimizers.SGD(learning_rate=0.001),\n",
    "             metrics=[\"accuracy\"])\n"
   ]
  },
  {
   "cell_type": "markdown",
   "id": "2460bb12-8720-46a4-a6c1-28cf4f5a46b0",
   "metadata": {},
   "source": [
    "#### Training"
   ]
  },
  {
   "cell_type": "code",
   "execution_count": 1084,
   "id": "2135b834-5873-4d60-9ee0-65f1b02df38a",
   "metadata": {},
   "outputs": [
    {
     "name": "stdout",
     "output_type": "stream",
     "text": [
      "Epoch 1/150\n",
      "\u001b[1m21/21\u001b[0m \u001b[32m━━━━━━━━━━━━━━━━━━━━\u001b[0m\u001b[37m\u001b[0m \u001b[1m1s\u001b[0m 17ms/step - accuracy: 0.5042 - loss: 0.7107 - val_accuracy: 0.4600 - val_loss: 0.7063\n",
      "Epoch 2/150\n",
      "\u001b[1m21/21\u001b[0m \u001b[32m━━━━━━━━━━━━━━━━━━━━\u001b[0m\u001b[37m\u001b[0m \u001b[1m0s\u001b[0m 4ms/step - accuracy: 0.4908 - loss: 0.6964 - val_accuracy: 0.4500 - val_loss: 0.7036\n",
      "Epoch 3/150\n",
      "\u001b[1m21/21\u001b[0m \u001b[32m━━━━━━━━━━━━━━━━━━━━\u001b[0m\u001b[37m\u001b[0m \u001b[1m0s\u001b[0m 4ms/step - accuracy: 0.5041 - loss: 0.6944 - val_accuracy: 0.4400 - val_loss: 0.7022\n",
      "Epoch 4/150\n",
      "\u001b[1m21/21\u001b[0m \u001b[32m━━━━━━━━━━━━━━━━━━━━\u001b[0m\u001b[37m\u001b[0m \u001b[1m0s\u001b[0m 4ms/step - accuracy: 0.5278 - loss: 0.6930 - val_accuracy: 0.4500 - val_loss: 0.7012\n",
      "Epoch 5/150\n",
      "\u001b[1m21/21\u001b[0m \u001b[32m━━━━━━━━━━━━━━━━━━━━\u001b[0m\u001b[37m\u001b[0m \u001b[1m0s\u001b[0m 4ms/step - accuracy: 0.5548 - loss: 0.6920 - val_accuracy: 0.4600 - val_loss: 0.7005\n",
      "Epoch 6/150\n",
      "\u001b[1m21/21\u001b[0m \u001b[32m━━━━━━━━━━━━━━━━━━━━\u001b[0m\u001b[37m\u001b[0m \u001b[1m0s\u001b[0m 4ms/step - accuracy: 0.5525 - loss: 0.6910 - val_accuracy: 0.4700 - val_loss: 0.6999\n",
      "Epoch 7/150\n",
      "\u001b[1m21/21\u001b[0m \u001b[32m━━━━━━━━━━━━━━━━━━━━\u001b[0m\u001b[37m\u001b[0m \u001b[1m0s\u001b[0m 4ms/step - accuracy: 0.5557 - loss: 0.6902 - val_accuracy: 0.4600 - val_loss: 0.6994\n",
      "Epoch 8/150\n",
      "\u001b[1m21/21\u001b[0m \u001b[32m━━━━━━━━━━━━━━━━━━━━\u001b[0m\u001b[37m\u001b[0m \u001b[1m0s\u001b[0m 4ms/step - accuracy: 0.5672 - loss: 0.6895 - val_accuracy: 0.4800 - val_loss: 0.6990\n",
      "Epoch 9/150\n",
      "\u001b[1m21/21\u001b[0m \u001b[32m━━━━━━━━━━━━━━━━━━━━\u001b[0m\u001b[37m\u001b[0m \u001b[1m0s\u001b[0m 4ms/step - accuracy: 0.5708 - loss: 0.6889 - val_accuracy: 0.4800 - val_loss: 0.6986\n",
      "Epoch 10/150\n",
      "\u001b[1m21/21\u001b[0m \u001b[32m━━━━━━━━━━━━━━━━━━━━\u001b[0m\u001b[37m\u001b[0m \u001b[1m0s\u001b[0m 4ms/step - accuracy: 0.5735 - loss: 0.6883 - val_accuracy: 0.4700 - val_loss: 0.6984\n",
      "Epoch 11/150\n",
      "\u001b[1m21/21\u001b[0m \u001b[32m━━━━━━━━━━━━━━━━━━━━\u001b[0m\u001b[37m\u001b[0m \u001b[1m0s\u001b[0m 4ms/step - accuracy: 0.5738 - loss: 0.6878 - val_accuracy: 0.4800 - val_loss: 0.6982\n",
      "Epoch 12/150\n",
      "\u001b[1m21/21\u001b[0m \u001b[32m━━━━━━━━━━━━━━━━━━━━\u001b[0m\u001b[37m\u001b[0m \u001b[1m0s\u001b[0m 4ms/step - accuracy: 0.5761 - loss: 0.6872 - val_accuracy: 0.4800 - val_loss: 0.6981\n",
      "Epoch 13/150\n",
      "\u001b[1m21/21\u001b[0m \u001b[32m━━━━━━━━━━━━━━━━━━━━\u001b[0m\u001b[37m\u001b[0m \u001b[1m0s\u001b[0m 4ms/step - accuracy: 0.5681 - loss: 0.6867 - val_accuracy: 0.4800 - val_loss: 0.6981\n",
      "Epoch 14/150\n",
      "\u001b[1m21/21\u001b[0m \u001b[32m━━━━━━━━━━━━━━━━━━━━\u001b[0m\u001b[37m\u001b[0m \u001b[1m0s\u001b[0m 4ms/step - accuracy: 0.5732 - loss: 0.6863 - val_accuracy: 0.4900 - val_loss: 0.6981\n",
      "Epoch 15/150\n",
      "\u001b[1m21/21\u001b[0m \u001b[32m━━━━━━━━━━━━━━━━━━━━\u001b[0m\u001b[37m\u001b[0m \u001b[1m0s\u001b[0m 4ms/step - accuracy: 0.5734 - loss: 0.6859 - val_accuracy: 0.5000 - val_loss: 0.6981\n",
      "Epoch 16/150\n",
      "\u001b[1m21/21\u001b[0m \u001b[32m━━━━━━━━━━━━━━━━━━━━\u001b[0m\u001b[37m\u001b[0m \u001b[1m0s\u001b[0m 4ms/step - accuracy: 0.5708 - loss: 0.6855 - val_accuracy: 0.5200 - val_loss: 0.6982\n",
      "Epoch 17/150\n",
      "\u001b[1m21/21\u001b[0m \u001b[32m━━━━━━━━━━━━━━━━━━━━\u001b[0m\u001b[37m\u001b[0m \u001b[1m0s\u001b[0m 4ms/step - accuracy: 0.5713 - loss: 0.6852 - val_accuracy: 0.5200 - val_loss: 0.6982\n",
      "Epoch 18/150\n",
      "\u001b[1m21/21\u001b[0m \u001b[32m━━━━━━━━━━━━━━━━━━━━\u001b[0m\u001b[37m\u001b[0m \u001b[1m0s\u001b[0m 4ms/step - accuracy: 0.5655 - loss: 0.6848 - val_accuracy: 0.5200 - val_loss: 0.6983\n",
      "Epoch 19/150\n",
      "\u001b[1m21/21\u001b[0m \u001b[32m━━━━━━━━━━━━━━━━━━━━\u001b[0m\u001b[37m\u001b[0m \u001b[1m0s\u001b[0m 5ms/step - accuracy: 0.5579 - loss: 0.6846 - val_accuracy: 0.5200 - val_loss: 0.6983\n",
      "Epoch 20/150\n",
      "\u001b[1m21/21\u001b[0m \u001b[32m━━━━━━━━━━━━━━━━━━━━\u001b[0m\u001b[37m\u001b[0m \u001b[1m0s\u001b[0m 4ms/step - accuracy: 0.5579 - loss: 0.6843 - val_accuracy: 0.5200 - val_loss: 0.6984\n",
      "Epoch 21/150\n",
      "\u001b[1m21/21\u001b[0m \u001b[32m━━━━━━━━━━━━━━━━━━━━\u001b[0m\u001b[37m\u001b[0m \u001b[1m0s\u001b[0m 5ms/step - accuracy: 0.5583 - loss: 0.6841 - val_accuracy: 0.5100 - val_loss: 0.6984\n",
      "Epoch 22/150\n",
      "\u001b[1m21/21\u001b[0m \u001b[32m━━━━━━━━━━━━━━━━━━━━\u001b[0m\u001b[37m\u001b[0m \u001b[1m0s\u001b[0m 5ms/step - accuracy: 0.5658 - loss: 0.6838 - val_accuracy: 0.5100 - val_loss: 0.6985\n",
      "Epoch 23/150\n",
      "\u001b[1m21/21\u001b[0m \u001b[32m━━━━━━━━━━━━━━━━━━━━\u001b[0m\u001b[37m\u001b[0m \u001b[1m0s\u001b[0m 4ms/step - accuracy: 0.5668 - loss: 0.6836 - val_accuracy: 0.5100 - val_loss: 0.6986\n",
      "Epoch 24/150\n",
      "\u001b[1m21/21\u001b[0m \u001b[32m━━━━━━━━━━━━━━━━━━━━\u001b[0m\u001b[37m\u001b[0m \u001b[1m0s\u001b[0m 4ms/step - accuracy: 0.5717 - loss: 0.6834 - val_accuracy: 0.5100 - val_loss: 0.6987\n",
      "Epoch 25/150\n",
      "\u001b[1m21/21\u001b[0m \u001b[32m━━━━━━━━━━━━━━━━━━━━\u001b[0m\u001b[37m\u001b[0m \u001b[1m0s\u001b[0m 4ms/step - accuracy: 0.5756 - loss: 0.6832 - val_accuracy: 0.5100 - val_loss: 0.6986\n",
      "Epoch 26/150\n",
      "\u001b[1m21/21\u001b[0m \u001b[32m━━━━━━━━━━━━━━━━━━━━\u001b[0m\u001b[37m\u001b[0m \u001b[1m0s\u001b[0m 4ms/step - accuracy: 0.5757 - loss: 0.6830 - val_accuracy: 0.5100 - val_loss: 0.6987\n",
      "Epoch 27/150\n",
      "\u001b[1m21/21\u001b[0m \u001b[32m━━━━━━━━━━━━━━━━━━━━\u001b[0m\u001b[37m\u001b[0m \u001b[1m0s\u001b[0m 4ms/step - accuracy: 0.5757 - loss: 0.6828 - val_accuracy: 0.5200 - val_loss: 0.6987\n",
      "Epoch 28/150\n",
      "\u001b[1m21/21\u001b[0m \u001b[32m━━━━━━━━━━━━━━━━━━━━\u001b[0m\u001b[37m\u001b[0m \u001b[1m0s\u001b[0m 4ms/step - accuracy: 0.5757 - loss: 0.6826 - val_accuracy: 0.5200 - val_loss: 0.6986\n",
      "Epoch 29/150\n",
      "\u001b[1m21/21\u001b[0m \u001b[32m━━━━━━━━━━━━━━━━━━━━\u001b[0m\u001b[37m\u001b[0m \u001b[1m0s\u001b[0m 4ms/step - accuracy: 0.5766 - loss: 0.6825 - val_accuracy: 0.5200 - val_loss: 0.6987\n",
      "Epoch 30/150\n",
      "\u001b[1m21/21\u001b[0m \u001b[32m━━━━━━━━━━━━━━━━━━━━\u001b[0m\u001b[37m\u001b[0m \u001b[1m0s\u001b[0m 4ms/step - accuracy: 0.5750 - loss: 0.6823 - val_accuracy: 0.5200 - val_loss: 0.6987\n",
      "Epoch 31/150\n",
      "\u001b[1m21/21\u001b[0m \u001b[32m━━━━━━━━━━━━━━━━━━━━\u001b[0m\u001b[37m\u001b[0m \u001b[1m0s\u001b[0m 4ms/step - accuracy: 0.5752 - loss: 0.6821 - val_accuracy: 0.5300 - val_loss: 0.6987\n",
      "Epoch 32/150\n",
      "\u001b[1m21/21\u001b[0m \u001b[32m━━━━━━━━━━━━━━━━━━━━\u001b[0m\u001b[37m\u001b[0m \u001b[1m0s\u001b[0m 4ms/step - accuracy: 0.5759 - loss: 0.6820 - val_accuracy: 0.5300 - val_loss: 0.6987\n",
      "Epoch 33/150\n",
      "\u001b[1m21/21\u001b[0m \u001b[32m━━━━━━━━━━━━━━━━━━━━\u001b[0m\u001b[37m\u001b[0m \u001b[1m0s\u001b[0m 4ms/step - accuracy: 0.5754 - loss: 0.6818 - val_accuracy: 0.5300 - val_loss: 0.6986\n",
      "Epoch 34/150\n",
      "\u001b[1m21/21\u001b[0m \u001b[32m━━━━━━━━━━━━━━━━━━━━\u001b[0m\u001b[37m\u001b[0m \u001b[1m0s\u001b[0m 4ms/step - accuracy: 0.5780 - loss: 0.6817 - val_accuracy: 0.5300 - val_loss: 0.6986\n",
      "Epoch 35/150\n",
      "\u001b[1m21/21\u001b[0m \u001b[32m━━━━━━━━━━━━━━━━━━━━\u001b[0m\u001b[37m\u001b[0m \u001b[1m0s\u001b[0m 4ms/step - accuracy: 0.5875 - loss: 0.6815 - val_accuracy: 0.5300 - val_loss: 0.6986\n",
      "Epoch 36/150\n",
      "\u001b[1m21/21\u001b[0m \u001b[32m━━━━━━━━━━━━━━━━━━━━\u001b[0m\u001b[37m\u001b[0m \u001b[1m0s\u001b[0m 4ms/step - accuracy: 0.5875 - loss: 0.6814 - val_accuracy: 0.5300 - val_loss: 0.6986\n",
      "Epoch 37/150\n",
      "\u001b[1m21/21\u001b[0m \u001b[32m━━━━━━━━━━━━━━━━━━━━\u001b[0m\u001b[37m\u001b[0m \u001b[1m0s\u001b[0m 4ms/step - accuracy: 0.5885 - loss: 0.6812 - val_accuracy: 0.5300 - val_loss: 0.6986\n",
      "Epoch 38/150\n",
      "\u001b[1m21/21\u001b[0m \u001b[32m━━━━━━━━━━━━━━━━━━━━\u001b[0m\u001b[37m\u001b[0m \u001b[1m0s\u001b[0m 4ms/step - accuracy: 0.5888 - loss: 0.6811 - val_accuracy: 0.5300 - val_loss: 0.6986\n",
      "Epoch 39/150\n",
      "\u001b[1m21/21\u001b[0m \u001b[32m━━━━━━━━━━━━━━━━━━━━\u001b[0m\u001b[37m\u001b[0m \u001b[1m0s\u001b[0m 4ms/step - accuracy: 0.5888 - loss: 0.6809 - val_accuracy: 0.5300 - val_loss: 0.6986\n",
      "Epoch 40/150\n",
      "\u001b[1m21/21\u001b[0m \u001b[32m━━━━━━━━━━━━━━━━━━━━\u001b[0m\u001b[37m\u001b[0m \u001b[1m0s\u001b[0m 4ms/step - accuracy: 0.5911 - loss: 0.6808 - val_accuracy: 0.5300 - val_loss: 0.6986\n",
      "Epoch 41/150\n",
      "\u001b[1m21/21\u001b[0m \u001b[32m━━━━━━━━━━━━━━━━━━━━\u001b[0m\u001b[37m\u001b[0m \u001b[1m0s\u001b[0m 4ms/step - accuracy: 0.5928 - loss: 0.6807 - val_accuracy: 0.5300 - val_loss: 0.6986\n",
      "Epoch 42/150\n",
      "\u001b[1m21/21\u001b[0m \u001b[32m━━━━━━━━━━━━━━━━━━━━\u001b[0m\u001b[37m\u001b[0m \u001b[1m0s\u001b[0m 4ms/step - accuracy: 0.5928 - loss: 0.6806 - val_accuracy: 0.5300 - val_loss: 0.6986\n",
      "Epoch 43/150\n",
      "\u001b[1m21/21\u001b[0m \u001b[32m━━━━━━━━━━━━━━━━━━━━\u001b[0m\u001b[37m\u001b[0m \u001b[1m0s\u001b[0m 4ms/step - accuracy: 0.5930 - loss: 0.6805 - val_accuracy: 0.5300 - val_loss: 0.6987\n",
      "Epoch 44/150\n",
      "\u001b[1m21/21\u001b[0m \u001b[32m━━━━━━━━━━━━━━━━━━━━\u001b[0m\u001b[37m\u001b[0m \u001b[1m0s\u001b[0m 4ms/step - accuracy: 0.5930 - loss: 0.6803 - val_accuracy: 0.5300 - val_loss: 0.6987\n",
      "Epoch 45/150\n",
      "\u001b[1m21/21\u001b[0m \u001b[32m━━━━━━━━━━━━━━━━━━━━\u001b[0m\u001b[37m\u001b[0m \u001b[1m0s\u001b[0m 4ms/step - accuracy: 0.5944 - loss: 0.6802 - val_accuracy: 0.5300 - val_loss: 0.6987\n",
      "Epoch 46/150\n",
      "\u001b[1m21/21\u001b[0m \u001b[32m━━━━━━━━━━━━━━━━━━━━\u001b[0m\u001b[37m\u001b[0m \u001b[1m0s\u001b[0m 4ms/step - accuracy: 0.5944 - loss: 0.6801 - val_accuracy: 0.5300 - val_loss: 0.6987\n",
      "Epoch 47/150\n",
      "\u001b[1m21/21\u001b[0m \u001b[32m━━━━━━━━━━━━━━━━━━━━\u001b[0m\u001b[37m\u001b[0m \u001b[1m0s\u001b[0m 4ms/step - accuracy: 0.5944 - loss: 0.6800 - val_accuracy: 0.5300 - val_loss: 0.6988\n",
      "Epoch 48/150\n",
      "\u001b[1m21/21\u001b[0m \u001b[32m━━━━━━━━━━━━━━━━━━━━\u001b[0m\u001b[37m\u001b[0m \u001b[1m0s\u001b[0m 4ms/step - accuracy: 0.5957 - loss: 0.6799 - val_accuracy: 0.5300 - val_loss: 0.6987\n",
      "Epoch 49/150\n",
      "\u001b[1m21/21\u001b[0m \u001b[32m━━━━━━━━━━━━━━━━━━━━\u001b[0m\u001b[37m\u001b[0m \u001b[1m0s\u001b[0m 4ms/step - accuracy: 0.5959 - loss: 0.6798 - val_accuracy: 0.5300 - val_loss: 0.6988\n",
      "Epoch 50/150\n",
      "\u001b[1m21/21\u001b[0m \u001b[32m━━━━━━━━━━━━━━━━━━━━\u001b[0m\u001b[37m\u001b[0m \u001b[1m0s\u001b[0m 5ms/step - accuracy: 0.5963 - loss: 0.6797 - val_accuracy: 0.5300 - val_loss: 0.6988\n",
      "Epoch 51/150\n",
      "\u001b[1m21/21\u001b[0m \u001b[32m━━━━━━━━━━━━━━━━━━━━\u001b[0m\u001b[37m\u001b[0m \u001b[1m0s\u001b[0m 4ms/step - accuracy: 0.5970 - loss: 0.6796 - val_accuracy: 0.5300 - val_loss: 0.6988\n",
      "Epoch 52/150\n",
      "\u001b[1m21/21\u001b[0m \u001b[32m━━━━━━━━━━━━━━━━━━━━\u001b[0m\u001b[37m\u001b[0m \u001b[1m0s\u001b[0m 4ms/step - accuracy: 0.5954 - loss: 0.6795 - val_accuracy: 0.5300 - val_loss: 0.6987\n",
      "Epoch 53/150\n",
      "\u001b[1m21/21\u001b[0m \u001b[32m━━━━━━━━━━━━━━━━━━━━\u001b[0m\u001b[37m\u001b[0m \u001b[1m0s\u001b[0m 4ms/step - accuracy: 0.5993 - loss: 0.6794 - val_accuracy: 0.5300 - val_loss: 0.6988\n",
      "Epoch 54/150\n",
      "\u001b[1m21/21\u001b[0m \u001b[32m━━━━━━━━━━━━━━━━━━━━\u001b[0m\u001b[37m\u001b[0m \u001b[1m0s\u001b[0m 4ms/step - accuracy: 0.5957 - loss: 0.6793 - val_accuracy: 0.5300 - val_loss: 0.6988\n",
      "Epoch 55/150\n",
      "\u001b[1m21/21\u001b[0m \u001b[32m━━━━━━━━━━━━━━━━━━━━\u001b[0m\u001b[37m\u001b[0m \u001b[1m0s\u001b[0m 4ms/step - accuracy: 0.5951 - loss: 0.6792 - val_accuracy: 0.5400 - val_loss: 0.6987\n",
      "Epoch 56/150\n",
      "\u001b[1m21/21\u001b[0m \u001b[32m━━━━━━━━━━━━━━━━━━━━\u001b[0m\u001b[37m\u001b[0m \u001b[1m0s\u001b[0m 4ms/step - accuracy: 0.6001 - loss: 0.6790 - val_accuracy: 0.5400 - val_loss: 0.6988\n",
      "Epoch 57/150\n",
      "\u001b[1m21/21\u001b[0m \u001b[32m━━━━━━━━━━━━━━━━━━━━\u001b[0m\u001b[37m\u001b[0m \u001b[1m0s\u001b[0m 4ms/step - accuracy: 0.6093 - loss: 0.6788 - val_accuracy: 0.5300 - val_loss: 0.6987\n",
      "Epoch 58/150\n",
      "\u001b[1m21/21\u001b[0m \u001b[32m━━━━━━━━━━━━━━━━━━━━\u001b[0m\u001b[37m\u001b[0m \u001b[1m0s\u001b[0m 4ms/step - accuracy: 0.6009 - loss: 0.6786 - val_accuracy: 0.5400 - val_loss: 0.6986\n",
      "Epoch 59/150\n",
      "\u001b[1m21/21\u001b[0m \u001b[32m━━━━━━━━━━━━━━━━━━━━\u001b[0m\u001b[37m\u001b[0m \u001b[1m0s\u001b[0m 4ms/step - accuracy: 0.6042 - loss: 0.6785 - val_accuracy: 0.5400 - val_loss: 0.6986\n",
      "Epoch 60/150\n",
      "\u001b[1m21/21\u001b[0m \u001b[32m━━━━━━━━━━━━━━━━━━━━\u001b[0m\u001b[37m\u001b[0m \u001b[1m0s\u001b[0m 5ms/step - accuracy: 0.6094 - loss: 0.6784 - val_accuracy: 0.5400 - val_loss: 0.6985\n",
      "Epoch 61/150\n",
      "\u001b[1m21/21\u001b[0m \u001b[32m━━━━━━━━━━━━━━━━━━━━\u001b[0m\u001b[37m\u001b[0m \u001b[1m0s\u001b[0m 4ms/step - accuracy: 0.6094 - loss: 0.6783 - val_accuracy: 0.5400 - val_loss: 0.6985\n",
      "Epoch 62/150\n",
      "\u001b[1m21/21\u001b[0m \u001b[32m━━━━━━━━━━━━━━━━━━━━\u001b[0m\u001b[37m\u001b[0m \u001b[1m0s\u001b[0m 4ms/step - accuracy: 0.6094 - loss: 0.6781 - val_accuracy: 0.5400 - val_loss: 0.6985\n",
      "Epoch 63/150\n",
      "\u001b[1m21/21\u001b[0m \u001b[32m━━━━━━━━━━━━━━━━━━━━\u001b[0m\u001b[37m\u001b[0m \u001b[1m0s\u001b[0m 4ms/step - accuracy: 0.6094 - loss: 0.6780 - val_accuracy: 0.5400 - val_loss: 0.6984\n",
      "Epoch 64/150\n",
      "\u001b[1m21/21\u001b[0m \u001b[32m━━━━━━━━━━━━━━━━━━━━\u001b[0m\u001b[37m\u001b[0m \u001b[1m0s\u001b[0m 4ms/step - accuracy: 0.6100 - loss: 0.6780 - val_accuracy: 0.5400 - val_loss: 0.6984\n",
      "Epoch 65/150\n",
      "\u001b[1m21/21\u001b[0m \u001b[32m━━━━━━━━━━━━━━━━━━━━\u001b[0m\u001b[37m\u001b[0m \u001b[1m0s\u001b[0m 5ms/step - accuracy: 0.6094 - loss: 0.6779 - val_accuracy: 0.5400 - val_loss: 0.6985\n",
      "Epoch 66/150\n",
      "\u001b[1m21/21\u001b[0m \u001b[32m━━━━━━━━━━━━━━━━━━━━\u001b[0m\u001b[37m\u001b[0m \u001b[1m0s\u001b[0m 4ms/step - accuracy: 0.6047 - loss: 0.6778 - val_accuracy: 0.5400 - val_loss: 0.6985\n",
      "Epoch 67/150\n",
      "\u001b[1m21/21\u001b[0m \u001b[32m━━━━━━━━━━━━━━━━━━━━\u001b[0m\u001b[37m\u001b[0m \u001b[1m0s\u001b[0m 5ms/step - accuracy: 0.6047 - loss: 0.6777 - val_accuracy: 0.5400 - val_loss: 0.6985\n",
      "Epoch 68/150\n",
      "\u001b[1m21/21\u001b[0m \u001b[32m━━━━━━━━━━━━━━━━━━━━\u001b[0m\u001b[37m\u001b[0m \u001b[1m0s\u001b[0m 4ms/step - accuracy: 0.6078 - loss: 0.6775 - val_accuracy: 0.5400 - val_loss: 0.6986\n",
      "Epoch 69/150\n",
      "\u001b[1m21/21\u001b[0m \u001b[32m━━━━━━━━━━━━━━━━━━━━\u001b[0m\u001b[37m\u001b[0m \u001b[1m0s\u001b[0m 4ms/step - accuracy: 0.6076 - loss: 0.6775 - val_accuracy: 0.5400 - val_loss: 0.6985\n",
      "Epoch 70/150\n",
      "\u001b[1m21/21\u001b[0m \u001b[32m━━━━━━━━━━━━━━━━━━━━\u001b[0m\u001b[37m\u001b[0m \u001b[1m0s\u001b[0m 4ms/step - accuracy: 0.6131 - loss: 0.6775 - val_accuracy: 0.5400 - val_loss: 0.6985\n",
      "Epoch 71/150\n",
      "\u001b[1m21/21\u001b[0m \u001b[32m━━━━━━━━━━━━━━━━━━━━\u001b[0m\u001b[37m\u001b[0m \u001b[1m0s\u001b[0m 4ms/step - accuracy: 0.6119 - loss: 0.6774 - val_accuracy: 0.5400 - val_loss: 0.6985\n",
      "Epoch 72/150\n",
      "\u001b[1m21/21\u001b[0m \u001b[32m━━━━━━━━━━━━━━━━━━━━\u001b[0m\u001b[37m\u001b[0m \u001b[1m0s\u001b[0m 8ms/step - accuracy: 0.6131 - loss: 0.6772 - val_accuracy: 0.5400 - val_loss: 0.6986\n",
      "Epoch 73/150\n",
      "\u001b[1m21/21\u001b[0m \u001b[32m━━━━━━━━━━━━━━━━━━━━\u001b[0m\u001b[37m\u001b[0m \u001b[1m0s\u001b[0m 6ms/step - accuracy: 0.6119 - loss: 0.6772 - val_accuracy: 0.5400 - val_loss: 0.6986\n",
      "Epoch 74/150\n",
      "\u001b[1m21/21\u001b[0m \u001b[32m━━━━━━━━━━━━━━━━━━━━\u001b[0m\u001b[37m\u001b[0m \u001b[1m0s\u001b[0m 5ms/step - accuracy: 0.6128 - loss: 0.6771 - val_accuracy: 0.5400 - val_loss: 0.6986\n",
      "Epoch 75/150\n",
      "\u001b[1m21/21\u001b[0m \u001b[32m━━━━━━━━━━━━━━━━━━━━\u001b[0m\u001b[37m\u001b[0m \u001b[1m0s\u001b[0m 4ms/step - accuracy: 0.6140 - loss: 0.6770 - val_accuracy: 0.5400 - val_loss: 0.6986\n",
      "Epoch 76/150\n",
      "\u001b[1m21/21\u001b[0m \u001b[32m━━━━━━━━━━━━━━━━━━━━\u001b[0m\u001b[37m\u001b[0m \u001b[1m0s\u001b[0m 4ms/step - accuracy: 0.6128 - loss: 0.6769 - val_accuracy: 0.5400 - val_loss: 0.6986\n",
      "Epoch 77/150\n",
      "\u001b[1m21/21\u001b[0m \u001b[32m━━━━━━━━━━━━━━━━━━━━\u001b[0m\u001b[37m\u001b[0m \u001b[1m0s\u001b[0m 4ms/step - accuracy: 0.6126 - loss: 0.6769 - val_accuracy: 0.5400 - val_loss: 0.6987\n",
      "Epoch 78/150\n",
      "\u001b[1m21/21\u001b[0m \u001b[32m━━━━━━━━━━━━━━━━━━━━\u001b[0m\u001b[37m\u001b[0m \u001b[1m0s\u001b[0m 4ms/step - accuracy: 0.6116 - loss: 0.6768 - val_accuracy: 0.5400 - val_loss: 0.6987\n",
      "Epoch 79/150\n",
      "\u001b[1m21/21\u001b[0m \u001b[32m━━━━━━━━━━━━━━━━━━━━\u001b[0m\u001b[37m\u001b[0m \u001b[1m0s\u001b[0m 4ms/step - accuracy: 0.6108 - loss: 0.6767 - val_accuracy: 0.5400 - val_loss: 0.6988\n",
      "Epoch 80/150\n",
      "\u001b[1m21/21\u001b[0m \u001b[32m━━━━━━━━━━━━━━━━━━━━\u001b[0m\u001b[37m\u001b[0m \u001b[1m0s\u001b[0m 4ms/step - accuracy: 0.6114 - loss: 0.6766 - val_accuracy: 0.5400 - val_loss: 0.6987\n",
      "Epoch 81/150\n",
      "\u001b[1m21/21\u001b[0m \u001b[32m━━━━━━━━━━━━━━━━━━━━\u001b[0m\u001b[37m\u001b[0m \u001b[1m0s\u001b[0m 4ms/step - accuracy: 0.6111 - loss: 0.6766 - val_accuracy: 0.5500 - val_loss: 0.6988\n",
      "Epoch 82/150\n",
      "\u001b[1m21/21\u001b[0m \u001b[32m━━━━━━━━━━━━━━━━━━━━\u001b[0m\u001b[37m\u001b[0m \u001b[1m0s\u001b[0m 5ms/step - accuracy: 0.6111 - loss: 0.6765 - val_accuracy: 0.5500 - val_loss: 0.6989\n",
      "Epoch 83/150\n",
      "\u001b[1m21/21\u001b[0m \u001b[32m━━━━━━━━━━━━━━━━━━━━\u001b[0m\u001b[37m\u001b[0m \u001b[1m0s\u001b[0m 5ms/step - accuracy: 0.6111 - loss: 0.6764 - val_accuracy: 0.5500 - val_loss: 0.6989\n",
      "Epoch 84/150\n",
      "\u001b[1m21/21\u001b[0m \u001b[32m━━━━━━━━━━━━━━━━━━━━\u001b[0m\u001b[37m\u001b[0m \u001b[1m0s\u001b[0m 4ms/step - accuracy: 0.6111 - loss: 0.6763 - val_accuracy: 0.5500 - val_loss: 0.6990\n",
      "Epoch 85/150\n",
      "\u001b[1m21/21\u001b[0m \u001b[32m━━━━━━━━━━━━━━━━━━━━\u001b[0m\u001b[37m\u001b[0m \u001b[1m0s\u001b[0m 4ms/step - accuracy: 0.6111 - loss: 0.6762 - val_accuracy: 0.5500 - val_loss: 0.6990\n",
      "Epoch 86/150\n",
      "\u001b[1m21/21\u001b[0m \u001b[32m━━━━━━━━━━━━━━━━━━━━\u001b[0m\u001b[37m\u001b[0m \u001b[1m0s\u001b[0m 4ms/step - accuracy: 0.6111 - loss: 0.6761 - val_accuracy: 0.5500 - val_loss: 0.6990\n",
      "Epoch 87/150\n",
      "\u001b[1m21/21\u001b[0m \u001b[32m━━━━━━━━━━━━━━━━━━━━\u001b[0m\u001b[37m\u001b[0m \u001b[1m0s\u001b[0m 4ms/step - accuracy: 0.6111 - loss: 0.6761 - val_accuracy: 0.5500 - val_loss: 0.6991\n",
      "Epoch 88/150\n",
      "\u001b[1m21/21\u001b[0m \u001b[32m━━━━━━━━━━━━━━━━━━━━\u001b[0m\u001b[37m\u001b[0m \u001b[1m0s\u001b[0m 4ms/step - accuracy: 0.6111 - loss: 0.6760 - val_accuracy: 0.5500 - val_loss: 0.6991\n",
      "Epoch 89/150\n",
      "\u001b[1m21/21\u001b[0m \u001b[32m━━━━━━━━━━━━━━━━━━━━\u001b[0m\u001b[37m\u001b[0m \u001b[1m0s\u001b[0m 4ms/step - accuracy: 0.6121 - loss: 0.6760 - val_accuracy: 0.5500 - val_loss: 0.6991\n",
      "Epoch 90/150\n",
      "\u001b[1m21/21\u001b[0m \u001b[32m━━━━━━━━━━━━━━━━━━━━\u001b[0m\u001b[37m\u001b[0m \u001b[1m0s\u001b[0m 5ms/step - accuracy: 0.6121 - loss: 0.6760 - val_accuracy: 0.5500 - val_loss: 0.6991\n",
      "Epoch 91/150\n",
      "\u001b[1m21/21\u001b[0m \u001b[32m━━━━━━━━━━━━━━━━━━━━\u001b[0m\u001b[37m\u001b[0m \u001b[1m0s\u001b[0m 5ms/step - accuracy: 0.6121 - loss: 0.6758 - val_accuracy: 0.5500 - val_loss: 0.6992\n",
      "Epoch 92/150\n",
      "\u001b[1m21/21\u001b[0m \u001b[32m━━━━━━━━━━━━━━━━━━━━\u001b[0m\u001b[37m\u001b[0m \u001b[1m0s\u001b[0m 5ms/step - accuracy: 0.6121 - loss: 0.6757 - val_accuracy: 0.5500 - val_loss: 0.6992\n",
      "Epoch 93/150\n",
      "\u001b[1m21/21\u001b[0m \u001b[32m━━━━━━━━━━━━━━━━━━━━\u001b[0m\u001b[37m\u001b[0m \u001b[1m0s\u001b[0m 5ms/step - accuracy: 0.6117 - loss: 0.6757 - val_accuracy: 0.5500 - val_loss: 0.6992\n",
      "Epoch 94/150\n",
      "\u001b[1m21/21\u001b[0m \u001b[32m━━━━━━━━━━━━━━━━━━━━\u001b[0m\u001b[37m\u001b[0m \u001b[1m0s\u001b[0m 5ms/step - accuracy: 0.6117 - loss: 0.6757 - val_accuracy: 0.5500 - val_loss: 0.6992\n",
      "Epoch 95/150\n",
      "\u001b[1m21/21\u001b[0m \u001b[32m━━━━━━━━━━━━━━━━━━━━\u001b[0m\u001b[37m\u001b[0m \u001b[1m0s\u001b[0m 5ms/step - accuracy: 0.6117 - loss: 0.6756 - val_accuracy: 0.5500 - val_loss: 0.6992\n",
      "Epoch 96/150\n",
      "\u001b[1m21/21\u001b[0m \u001b[32m━━━━━━━━━━━━━━━━━━━━\u001b[0m\u001b[37m\u001b[0m \u001b[1m0s\u001b[0m 5ms/step - accuracy: 0.6117 - loss: 0.6755 - val_accuracy: 0.5500 - val_loss: 0.6992\n",
      "Epoch 97/150\n",
      "\u001b[1m21/21\u001b[0m \u001b[32m━━━━━━━━━━━━━━━━━━━━\u001b[0m\u001b[37m\u001b[0m \u001b[1m0s\u001b[0m 5ms/step - accuracy: 0.6117 - loss: 0.6755 - val_accuracy: 0.5500 - val_loss: 0.6993\n",
      "Epoch 98/150\n",
      "\u001b[1m21/21\u001b[0m \u001b[32m━━━━━━━━━━━━━━━━━━━━\u001b[0m\u001b[37m\u001b[0m \u001b[1m0s\u001b[0m 5ms/step - accuracy: 0.6064 - loss: 0.6754 - val_accuracy: 0.5500 - val_loss: 0.6993\n",
      "Epoch 99/150\n",
      "\u001b[1m21/21\u001b[0m \u001b[32m━━━━━━━━━━━━━━━━━━━━\u001b[0m\u001b[37m\u001b[0m \u001b[1m0s\u001b[0m 5ms/step - accuracy: 0.6064 - loss: 0.6753 - val_accuracy: 0.5400 - val_loss: 0.6993\n",
      "Epoch 100/150\n",
      "\u001b[1m21/21\u001b[0m \u001b[32m━━━━━━━━━━━━━━━━━━━━\u001b[0m\u001b[37m\u001b[0m \u001b[1m0s\u001b[0m 5ms/step - accuracy: 0.6064 - loss: 0.6753 - val_accuracy: 0.5400 - val_loss: 0.6993\n",
      "Epoch 101/150\n",
      "\u001b[1m21/21\u001b[0m \u001b[32m━━━━━━━━━━━━━━━━━━━━\u001b[0m\u001b[37m\u001b[0m \u001b[1m0s\u001b[0m 5ms/step - accuracy: 0.6064 - loss: 0.6753 - val_accuracy: 0.5400 - val_loss: 0.6993\n",
      "Epoch 102/150\n",
      "\u001b[1m21/21\u001b[0m \u001b[32m━━━━━━━━━━━━━━━━━━━━\u001b[0m\u001b[37m\u001b[0m \u001b[1m0s\u001b[0m 4ms/step - accuracy: 0.6064 - loss: 0.6752 - val_accuracy: 0.5400 - val_loss: 0.6993\n",
      "Epoch 103/150\n",
      "\u001b[1m21/21\u001b[0m \u001b[32m━━━━━━━━━━━━━━━━━━━━\u001b[0m\u001b[37m\u001b[0m \u001b[1m0s\u001b[0m 6ms/step - accuracy: 0.6087 - loss: 0.6751 - val_accuracy: 0.5400 - val_loss: 0.6993\n",
      "Epoch 104/150\n",
      "\u001b[1m21/21\u001b[0m \u001b[32m━━━━━━━━━━━━━━━━━━━━\u001b[0m\u001b[37m\u001b[0m \u001b[1m0s\u001b[0m 6ms/step - accuracy: 0.6087 - loss: 0.6751 - val_accuracy: 0.5400 - val_loss: 0.6994\n",
      "Epoch 105/150\n",
      "\u001b[1m21/21\u001b[0m \u001b[32m━━━━━━━━━━━━━━━━━━━━\u001b[0m\u001b[37m\u001b[0m \u001b[1m0s\u001b[0m 6ms/step - accuracy: 0.6087 - loss: 0.6750 - val_accuracy: 0.5400 - val_loss: 0.6993\n",
      "Epoch 106/150\n",
      "\u001b[1m21/21\u001b[0m \u001b[32m━━━━━━━━━━━━━━━━━━━━\u001b[0m\u001b[37m\u001b[0m \u001b[1m0s\u001b[0m 5ms/step - accuracy: 0.6087 - loss: 0.6749 - val_accuracy: 0.5400 - val_loss: 0.6994\n",
      "Epoch 107/150\n",
      "\u001b[1m21/21\u001b[0m \u001b[32m━━━━━━━━━━━━━━━━━━━━\u001b[0m\u001b[37m\u001b[0m \u001b[1m0s\u001b[0m 5ms/step - accuracy: 0.6087 - loss: 0.6749 - val_accuracy: 0.5400 - val_loss: 0.6994\n",
      "Epoch 108/150\n",
      "\u001b[1m21/21\u001b[0m \u001b[32m━━━━━━━━━━━━━━━━━━━━\u001b[0m\u001b[37m\u001b[0m \u001b[1m0s\u001b[0m 11ms/step - accuracy: 0.6087 - loss: 0.6748 - val_accuracy: 0.5400 - val_loss: 0.6994\n",
      "Epoch 109/150\n",
      "\u001b[1m21/21\u001b[0m \u001b[32m━━━━━━━━━━━━━━━━━━━━\u001b[0m\u001b[37m\u001b[0m \u001b[1m0s\u001b[0m 7ms/step - accuracy: 0.6087 - loss: 0.6748 - val_accuracy: 0.5400 - val_loss: 0.6994\n",
      "Epoch 110/150\n",
      "\u001b[1m21/21\u001b[0m \u001b[32m━━━━━━━━━━━━━━━━━━━━\u001b[0m\u001b[37m\u001b[0m \u001b[1m0s\u001b[0m 6ms/step - accuracy: 0.6087 - loss: 0.6747 - val_accuracy: 0.5400 - val_loss: 0.6994\n",
      "Epoch 111/150\n",
      "\u001b[1m21/21\u001b[0m \u001b[32m━━━━━━━━━━━━━━━━━━━━\u001b[0m\u001b[37m\u001b[0m \u001b[1m0s\u001b[0m 5ms/step - accuracy: 0.6087 - loss: 0.6746 - val_accuracy: 0.5400 - val_loss: 0.6994\n",
      "Epoch 112/150\n",
      "\u001b[1m21/21\u001b[0m \u001b[32m━━━━━━━━━━━━━━━━━━━━\u001b[0m\u001b[37m\u001b[0m \u001b[1m0s\u001b[0m 5ms/step - accuracy: 0.6087 - loss: 0.6746 - val_accuracy: 0.5400 - val_loss: 0.6994\n",
      "Epoch 113/150\n",
      "\u001b[1m21/21\u001b[0m \u001b[32m━━━━━━━━━━━━━━━━━━━━\u001b[0m\u001b[37m\u001b[0m \u001b[1m0s\u001b[0m 5ms/step - accuracy: 0.6087 - loss: 0.6745 - val_accuracy: 0.5300 - val_loss: 0.6995\n",
      "Epoch 114/150\n",
      "\u001b[1m21/21\u001b[0m \u001b[32m━━━━━━━━━━━━━━━━━━━━\u001b[0m\u001b[37m\u001b[0m \u001b[1m0s\u001b[0m 5ms/step - accuracy: 0.6087 - loss: 0.6745 - val_accuracy: 0.5300 - val_loss: 0.6994\n",
      "Epoch 115/150\n",
      "\u001b[1m21/21\u001b[0m \u001b[32m━━━━━━━━━━━━━━━━━━━━\u001b[0m\u001b[37m\u001b[0m \u001b[1m0s\u001b[0m 4ms/step - accuracy: 0.6087 - loss: 0.6744 - val_accuracy: 0.5300 - val_loss: 0.6994\n",
      "Epoch 116/150\n",
      "\u001b[1m21/21\u001b[0m \u001b[32m━━━━━━━━━━━━━━━━━━━━\u001b[0m\u001b[37m\u001b[0m \u001b[1m0s\u001b[0m 6ms/step - accuracy: 0.6087 - loss: 0.6743 - val_accuracy: 0.5300 - val_loss: 0.6993\n",
      "Epoch 117/150\n",
      "\u001b[1m21/21\u001b[0m \u001b[32m━━━━━━━━━━━━━━━━━━━━\u001b[0m\u001b[37m\u001b[0m \u001b[1m0s\u001b[0m 6ms/step - accuracy: 0.6087 - loss: 0.6743 - val_accuracy: 0.5300 - val_loss: 0.6993\n",
      "Epoch 118/150\n",
      "\u001b[1m21/21\u001b[0m \u001b[32m━━━━━━━━━━━━━━━━━━━━\u001b[0m\u001b[37m\u001b[0m \u001b[1m0s\u001b[0m 6ms/step - accuracy: 0.6119 - loss: 0.6743 - val_accuracy: 0.5300 - val_loss: 0.6993\n",
      "Epoch 119/150\n",
      "\u001b[1m21/21\u001b[0m \u001b[32m━━━━━━━━━━━━━━━━━━━━\u001b[0m\u001b[37m\u001b[0m \u001b[1m0s\u001b[0m 5ms/step - accuracy: 0.6085 - loss: 0.6742 - val_accuracy: 0.5300 - val_loss: 0.6992\n",
      "Epoch 120/150\n",
      "\u001b[1m21/21\u001b[0m \u001b[32m━━━━━━━━━━━━━━━━━━━━\u001b[0m\u001b[37m\u001b[0m \u001b[1m0s\u001b[0m 5ms/step - accuracy: 0.6116 - loss: 0.6741 - val_accuracy: 0.5300 - val_loss: 0.6993\n",
      "Epoch 121/150\n",
      "\u001b[1m21/21\u001b[0m \u001b[32m━━━━━━━━━━━━━━━━━━━━\u001b[0m\u001b[37m\u001b[0m \u001b[1m0s\u001b[0m 5ms/step - accuracy: 0.6116 - loss: 0.6741 - val_accuracy: 0.5300 - val_loss: 0.6992\n",
      "Epoch 122/150\n",
      "\u001b[1m21/21\u001b[0m \u001b[32m━━━━━━━━━━━━━━━━━━━━\u001b[0m\u001b[37m\u001b[0m \u001b[1m0s\u001b[0m 5ms/step - accuracy: 0.6116 - loss: 0.6741 - val_accuracy: 0.5300 - val_loss: 0.6993\n",
      "Epoch 123/150\n",
      "\u001b[1m21/21\u001b[0m \u001b[32m━━━━━━━━━━━━━━━━━━━━\u001b[0m\u001b[37m\u001b[0m \u001b[1m0s\u001b[0m 6ms/step - accuracy: 0.6124 - loss: 0.6740 - val_accuracy: 0.5300 - val_loss: 0.6992\n",
      "Epoch 124/150\n",
      "\u001b[1m21/21\u001b[0m \u001b[32m━━━━━━━━━━━━━━━━━━━━\u001b[0m\u001b[37m\u001b[0m \u001b[1m0s\u001b[0m 5ms/step - accuracy: 0.6116 - loss: 0.6739 - val_accuracy: 0.5300 - val_loss: 0.6993\n",
      "Epoch 125/150\n",
      "\u001b[1m21/21\u001b[0m \u001b[32m━━━━━━━━━━━━━━━━━━━━\u001b[0m\u001b[37m\u001b[0m \u001b[1m0s\u001b[0m 5ms/step - accuracy: 0.6116 - loss: 0.6739 - val_accuracy: 0.5300 - val_loss: 0.6993\n",
      "Epoch 126/150\n",
      "\u001b[1m21/21\u001b[0m \u001b[32m━━━━━━━━━━━━━━━━━━━━\u001b[0m\u001b[37m\u001b[0m \u001b[1m0s\u001b[0m 5ms/step - accuracy: 0.6116 - loss: 0.6739 - val_accuracy: 0.5300 - val_loss: 0.6993\n",
      "Epoch 127/150\n",
      "\u001b[1m21/21\u001b[0m \u001b[32m━━━━━━━━━━━━━━━━━━━━\u001b[0m\u001b[37m\u001b[0m \u001b[1m0s\u001b[0m 6ms/step - accuracy: 0.6124 - loss: 0.6738 - val_accuracy: 0.5300 - val_loss: 0.6993\n",
      "Epoch 128/150\n",
      "\u001b[1m21/21\u001b[0m \u001b[32m━━━━━━━━━━━━━━━━━━━━\u001b[0m\u001b[37m\u001b[0m \u001b[1m0s\u001b[0m 5ms/step - accuracy: 0.6122 - loss: 0.6737 - val_accuracy: 0.5300 - val_loss: 0.6993\n",
      "Epoch 129/150\n",
      "\u001b[1m21/21\u001b[0m \u001b[32m━━━━━━━━━━━━━━━━━━━━\u001b[0m\u001b[37m\u001b[0m \u001b[1m0s\u001b[0m 6ms/step - accuracy: 0.6114 - loss: 0.6738 - val_accuracy: 0.5300 - val_loss: 0.6993\n",
      "Epoch 130/150\n",
      "\u001b[1m21/21\u001b[0m \u001b[32m━━━━━━━━━━━━━━━━━━━━\u001b[0m\u001b[37m\u001b[0m \u001b[1m0s\u001b[0m 6ms/step - accuracy: 0.6147 - loss: 0.6736 - val_accuracy: 0.5300 - val_loss: 0.6993\n",
      "Epoch 131/150\n",
      "\u001b[1m21/21\u001b[0m \u001b[32m━━━━━━━━━━━━━━━━━━━━\u001b[0m\u001b[37m\u001b[0m \u001b[1m0s\u001b[0m 5ms/step - accuracy: 0.6137 - loss: 0.6736 - val_accuracy: 0.5300 - val_loss: 0.6993\n",
      "Epoch 132/150\n",
      "\u001b[1m21/21\u001b[0m \u001b[32m━━━━━━━━━━━━━━━━━━━━\u001b[0m\u001b[37m\u001b[0m \u001b[1m0s\u001b[0m 6ms/step - accuracy: 0.6139 - loss: 0.6735 - val_accuracy: 0.5300 - val_loss: 0.6993\n",
      "Epoch 133/150\n",
      "\u001b[1m21/21\u001b[0m \u001b[32m━━━━━━━━━━━━━━━━━━━━\u001b[0m\u001b[37m\u001b[0m \u001b[1m0s\u001b[0m 8ms/step - accuracy: 0.6168 - loss: 0.6735 - val_accuracy: 0.5300 - val_loss: 0.6993\n",
      "Epoch 134/150\n",
      "\u001b[1m21/21\u001b[0m \u001b[32m━━━━━━━━━━━━━━━━━━━━\u001b[0m\u001b[37m\u001b[0m \u001b[1m0s\u001b[0m 7ms/step - accuracy: 0.6161 - loss: 0.6734 - val_accuracy: 0.5300 - val_loss: 0.6994\n",
      "Epoch 135/150\n",
      "\u001b[1m21/21\u001b[0m \u001b[32m━━━━━━━━━━━━━━━━━━━━\u001b[0m\u001b[37m\u001b[0m \u001b[1m0s\u001b[0m 6ms/step - accuracy: 0.6175 - loss: 0.6733 - val_accuracy: 0.5300 - val_loss: 0.6994\n",
      "Epoch 136/150\n",
      "\u001b[1m21/21\u001b[0m \u001b[32m━━━━━━━━━━━━━━━━━━━━\u001b[0m\u001b[37m\u001b[0m \u001b[1m0s\u001b[0m 5ms/step - accuracy: 0.6161 - loss: 0.6733 - val_accuracy: 0.5300 - val_loss: 0.6994\n",
      "Epoch 137/150\n",
      "\u001b[1m21/21\u001b[0m \u001b[32m━━━━━━━━━━━━━━━━━━━━\u001b[0m\u001b[37m\u001b[0m \u001b[1m0s\u001b[0m 6ms/step - accuracy: 0.6168 - loss: 0.6733 - val_accuracy: 0.5300 - val_loss: 0.6994\n",
      "Epoch 138/150\n",
      "\u001b[1m21/21\u001b[0m \u001b[32m━━━━━━━━━━━━━━━━━━━━\u001b[0m\u001b[37m\u001b[0m \u001b[1m0s\u001b[0m 5ms/step - accuracy: 0.6170 - loss: 0.6732 - val_accuracy: 0.5300 - val_loss: 0.6995\n",
      "Epoch 139/150\n",
      "\u001b[1m21/21\u001b[0m \u001b[32m━━━━━━━━━━━━━━━━━━━━\u001b[0m\u001b[37m\u001b[0m \u001b[1m0s\u001b[0m 5ms/step - accuracy: 0.6170 - loss: 0.6731 - val_accuracy: 0.5300 - val_loss: 0.6994\n",
      "Epoch 140/150\n",
      "\u001b[1m21/21\u001b[0m \u001b[32m━━━━━━━━━━━━━━━━━━━━\u001b[0m\u001b[37m\u001b[0m \u001b[1m0s\u001b[0m 5ms/step - accuracy: 0.6170 - loss: 0.6731 - val_accuracy: 0.5300 - val_loss: 0.6995\n",
      "Epoch 141/150\n",
      "\u001b[1m21/21\u001b[0m \u001b[32m━━━━━━━━━━━━━━━━━━━━\u001b[0m\u001b[37m\u001b[0m \u001b[1m0s\u001b[0m 5ms/step - accuracy: 0.6170 - loss: 0.6731 - val_accuracy: 0.5300 - val_loss: 0.6995\n",
      "Epoch 142/150\n",
      "\u001b[1m21/21\u001b[0m \u001b[32m━━━━━━━━━━━━━━━━━━━━\u001b[0m\u001b[37m\u001b[0m \u001b[1m0s\u001b[0m 4ms/step - accuracy: 0.6170 - loss: 0.6730 - val_accuracy: 0.5300 - val_loss: 0.6995\n",
      "Epoch 143/150\n",
      "\u001b[1m21/21\u001b[0m \u001b[32m━━━━━━━━━━━━━━━━━━━━\u001b[0m\u001b[37m\u001b[0m \u001b[1m0s\u001b[0m 5ms/step - accuracy: 0.6170 - loss: 0.6730 - val_accuracy: 0.5300 - val_loss: 0.6995\n",
      "Epoch 144/150\n",
      "\u001b[1m21/21\u001b[0m \u001b[32m━━━━━━━━━━━━━━━━━━━━\u001b[0m\u001b[37m\u001b[0m \u001b[1m0s\u001b[0m 5ms/step - accuracy: 0.6178 - loss: 0.6729 - val_accuracy: 0.5300 - val_loss: 0.6995\n",
      "Epoch 145/150\n",
      "\u001b[1m21/21\u001b[0m \u001b[32m━━━━━━━━━━━━━━━━━━━━\u001b[0m\u001b[37m\u001b[0m \u001b[1m0s\u001b[0m 4ms/step - accuracy: 0.6173 - loss: 0.6729 - val_accuracy: 0.5300 - val_loss: 0.6996\n",
      "Epoch 146/150\n",
      "\u001b[1m21/21\u001b[0m \u001b[32m━━━━━━━━━━━━━━━━━━━━\u001b[0m\u001b[37m\u001b[0m \u001b[1m0s\u001b[0m 4ms/step - accuracy: 0.6173 - loss: 0.6728 - val_accuracy: 0.5300 - val_loss: 0.6996\n",
      "Epoch 147/150\n",
      "\u001b[1m21/21\u001b[0m \u001b[32m━━━━━━━━━━━━━━━━━━━━\u001b[0m\u001b[37m\u001b[0m \u001b[1m0s\u001b[0m 4ms/step - accuracy: 0.6173 - loss: 0.6728 - val_accuracy: 0.5300 - val_loss: 0.6997\n",
      "Epoch 148/150\n",
      "\u001b[1m21/21\u001b[0m \u001b[32m━━━━━━━━━━━━━━━━━━━━\u001b[0m\u001b[37m\u001b[0m \u001b[1m0s\u001b[0m 4ms/step - accuracy: 0.6173 - loss: 0.6727 - val_accuracy: 0.5300 - val_loss: 0.6996\n",
      "Epoch 149/150\n",
      "\u001b[1m21/21\u001b[0m \u001b[32m━━━━━━━━━━━━━━━━━━━━\u001b[0m\u001b[37m\u001b[0m \u001b[1m0s\u001b[0m 5ms/step - accuracy: 0.6178 - loss: 0.6727 - val_accuracy: 0.5300 - val_loss: 0.6997\n",
      "Epoch 150/150\n",
      "\u001b[1m21/21\u001b[0m \u001b[32m━━━━━━━━━━━━━━━━━━━━\u001b[0m\u001b[37m\u001b[0m \u001b[1m0s\u001b[0m 4ms/step - accuracy: 0.6173 - loss: 0.6726 - val_accuracy: 0.5300 - val_loss: 0.6997\n"
     ]
    }
   ],
   "source": [
    "history = model.fit(X_train, y_train, epochs=150, validation_data=(X_val, y_val))"
   ]
  },
  {
   "cell_type": "markdown",
   "id": "f761c31c-b16d-4ff9-85f2-746f54b3752d",
   "metadata": {},
   "source": [
    "#### Visualization"
   ]
  },
  {
   "cell_type": "code",
   "execution_count": 1085,
   "id": "541ef145-2332-495f-921d-50bd8a8013a7",
   "metadata": {},
   "outputs": [
    {
     "data": {
      "image/png": "[encoded data removed]",
      "text/plain": [
       "<Figure size 2000x1000 with 1 Axes>"
      ]
     },
     "metadata": {},
     "output_type": "display_data"
    }
   ],
   "source": [
    "pd.DataFrame(history.history).plot(figsize=(20, 10))\n",
    "plt.grid(True)\n",
    "plt.gca().set_ylim(0, 1)\n",
    "plt.show()\n"
   ]
  },
  {
   "cell_type": "markdown",
   "id": "a60e5cb1-c20b-4393-9b6c-6e3474a6796d",
   "metadata": {},
   "source": [
    "## Results"
   ]
  },
  {
   "cell_type": "markdown",
   "id": "4f926419-4a6b-4f03-b4e1-6702d1c32429",
   "metadata": {},
   "source": [
    "#### Testing"
   ]
  },
  {
   "cell_type": "code",
   "execution_count": 1090,
   "id": "bc346f0e-e91e-40a2-be40-400c31a85319",
   "metadata": {},
   "outputs": [
    {
     "name": "stdout",
     "output_type": "stream",
     "text": [
      "\u001b[1m9/9\u001b[0m \u001b[32m━━━━━━━━━━━━━━━━━━━━\u001b[0m\u001b[37m\u001b[0m \u001b[1m0s\u001b[0m 2ms/step - accuracy: 0.5416 - loss: 0.6868\n"
     ]
    },
    {
     "data": {
      "text/plain": [
       "[0.6999537944793701, 0.49805447459220886]"
      ]
     },
     "execution_count": 1090,
     "metadata": {},
     "output_type": "execute_result"
    }
   ],
   "source": [
    "model.evaluate(X_test, y_test)"
   ]
  },
  {
   "cell_type": "code",
   "execution_count": 1087,
   "id": "94fde3f2-b401-4c48-bb8d-6e09e30857cb",
   "metadata": {},
   "outputs": [
    {
     "name": "stdout",
     "output_type": "stream",
     "text": [
      "\u001b[1m1/1\u001b[0m \u001b[32m━━━━━━━━━━━━━━━━━━━━\u001b[0m\u001b[37m\u001b[0m \u001b[1m0s\u001b[0m 224ms/step\n"
     ]
    },
    {
     "data": {
      "text/plain": [
       "array([[0.52, 0.48],\n",
       "       [0.56, 0.44],\n",
       "       [0.48, 0.52],\n",
       "       [0.51, 0.49],\n",
       "       [0.42, 0.58]], dtype=float32)"
      ]
     },
     "execution_count": 1087,
     "metadata": {},
     "output_type": "execute_result"
    }
   ],
   "source": [
    "X_new = X_test[:5]\n",
    "y_proba = model.predict(X_new)\n",
    "y_proba.round(2)"
   ]
  },
  {
   "cell_type": "code",
   "execution_count": 1088,
   "id": "d410a288-619c-4fb7-9629-be0e7faf07a6",
   "metadata": {},
   "outputs": [
    {
     "name": "stdout",
     "output_type": "stream",
     "text": [
      "\u001b[1m1/1\u001b[0m \u001b[32m━━━━━━━━━━━━━━━━━━━━\u001b[0m\u001b[37m\u001b[0m \u001b[1m0s\u001b[0m 65ms/step\n"
     ]
    },
    {
     "data": {
      "text/plain": [
       "array([0, 0, 1, 0, 1], dtype=int64)"
      ]
     },
     "execution_count": 1088,
     "metadata": {},
     "output_type": "execute_result"
    }
   ],
   "source": [
    "y_pred = np.argmax(model.predict(X_new), axis=-1)\n",
    "y_pred"
   ]
  },
  {
   "cell_type": "code",
   "execution_count": 1089,
   "id": "d5556c07-70ad-49e0-bc52-acb9fb482cd6",
   "metadata": {},
   "outputs": [
    {
     "data": {
      "text/plain": [
       "428    1\n",
       "533    1\n",
       "388    1\n",
       "107    0\n",
       "423    1\n",
       "Name: target, dtype: int32"
      ]
     },
     "execution_count": 1089,
     "metadata": {},
     "output_type": "execute_result"
    }
   ],
   "source": [
    "y_new = y_test[:5]\n",
    "y_new"
   ]
  },
  {
   "cell_type": "code",
   "execution_count": null,
   "id": "dd349d74-b32c-48f6-8f73-2e07b33d6b3c",
   "metadata": {},
   "outputs": [],
   "source": []
  },
  {
   "cell_type": "code",
   "execution_count": 903,
   "id": "02b7d8f9-9d4d-4f03-87d4-69abf022227a",
   "metadata": {},
   "outputs": [
    {
     "data": {
      "text/plain": [
       "66080"
      ]
     },
     "execution_count": 903,
     "metadata": {},
     "output_type": "execute_result"
    }
   ],
   "source": [
    "c = price_data[-1:]\n",
    "\n",
    "price = [val for val in c.open]\n",
    "price[0]"
   ]
  },
  {
   "cell_type": "code",
   "execution_count": 904,
   "id": "af8934f2-b9f5-44fd-8a60-5bd84abd5817",
   "metadata": {},
   "outputs": [],
   "source": [
    "c = c.filter([\"day\", \"month\", \"daily_change\",\"volume\", \"volitility\", \"highs_from_open\", \"lows_from_open\"]) #, \"volitility\", \"highs_from_open\", \"lows_from_open\", , \"low\", \"high\" , \"volitility\", \"highs_from_open\", \"lows_from_open\", \"low\", \"high\" , \"volitility\", \"highs_from_open\", \"lows_from_open\"\n"
   ]
  },
  {
   "cell_type": "code",
   "execution_count": 905,
   "id": "4cb741cb-70bd-41f4-b284-d3ecaf1a63a8",
   "metadata": {},
   "outputs": [
    {
     "name": "stdout",
     "output_type": "stream",
     "text": [
      "\u001b[1m1/1\u001b[0m \u001b[32m━━━━━━━━━━━━━━━━━━━━\u001b[0m\u001b[37m\u001b[0m \u001b[1m0s\u001b[0m 71ms/step\n"
     ]
    },
    {
     "data": {
      "text/plain": [
       "array([1], dtype=int64)"
      ]
     },
     "execution_count": 905,
     "metadata": {},
     "output_type": "execute_result"
    }
   ],
   "source": [
    "h = np.argmax(model.predict(c), axis=-1)\n",
    "h"
   ]
  },
  {
   "cell_type": "code",
   "execution_count": null,
   "id": "f1a06579-6e40-4ef1-b9c9-f51f3f9ec23b",
   "metadata": {},
   "outputs": [],
   "source": []
  },
  {
   "cell_type": "code",
   "execution_count": null,
   "id": "81c3cbe8-e31c-4f77-8d38-4abc6f8c25de",
   "metadata": {},
   "outputs": [],
   "source": []
  },
  {
   "cell_type": "code",
   "execution_count": null,
   "id": "55e5a216-5b3d-4326-bcbb-59744593955e",
   "metadata": {},
   "outputs": [],
   "source": []
  },
  {
   "cell_type": "code",
   "execution_count": null,
   "id": "4820fc67-7041-479b-9ddc-8fe66c2de3b0",
   "metadata": {},
   "outputs": [],
   "source": []
  },
  {
   "cell_type": "code",
   "execution_count": null,
   "id": "f0afaef6-36c5-4167-885d-659f17d09e56",
   "metadata": {},
   "outputs": [],
   "source": []
  },
  {
   "cell_type": "code",
   "execution_count": null,
   "id": "614dab71-1afe-4a92-bcc6-365b2386c37d",
   "metadata": {},
   "outputs": [],
   "source": []
  },
  {
   "cell_type": "code",
   "execution_count": null,
   "id": "19bf4ba1-13fc-4795-8a63-d81962f32094",
   "metadata": {},
   "outputs": [],
   "source": []
  },
  {
   "cell_type": "code",
   "execution_count": null,
   "id": "449cfa93-33c9-4c5b-8b37-b638f5bd7124",
   "metadata": {},
   "outputs": [],
   "source": []
  },
  {
   "cell_type": "code",
   "execution_count": null,
   "id": "a7f9584f-5215-4cce-9b83-e58bc3514f29",
   "metadata": {},
   "outputs": [],
   "source": []
  },
  {
   "cell_type": "code",
   "execution_count": null,
   "id": "b7b00991-e66c-4f17-b327-92be6b56545d",
   "metadata": {},
   "outputs": [],
   "source": []
  },
  {
   "cell_type": "code",
   "execution_count": null,
   "id": "619c0571-6886-4324-92ff-1025c16f7249",
   "metadata": {},
   "outputs": [],
   "source": []
  },
  {
   "cell_type": "code",
   "execution_count": null,
   "id": "4c7aa286-dbcf-49d6-beb5-1143c925d88c",
   "metadata": {},
   "outputs": [],
   "source": []
  },
  {
   "cell_type": "code",
   "execution_count": null,
   "id": "0092251d-24ff-4d43-ada7-d52ea2c937ec",
   "metadata": {},
   "outputs": [],
   "source": []
  },
  {
   "cell_type": "code",
   "execution_count": null,
   "id": "d9bf9ea4-d64a-406c-97e9-07b8a40c7cd2",
   "metadata": {},
   "outputs": [],
   "source": []
  },
  {
   "cell_type": "code",
   "execution_count": null,
   "id": "c3f98c96-0563-495b-9f2f-c3e9c88d2d8c",
   "metadata": {},
   "outputs": [],
   "source": []
  },
  {
   "cell_type": "code",
   "execution_count": null,
   "id": "268c4925-79bb-4393-a75b-bd1b37091eb1",
   "metadata": {},
   "outputs": [],
   "source": []
  },
  {
   "cell_type": "code",
   "execution_count": null,
   "id": "61a23367-6560-4642-a907-d4e615a04f9b",
   "metadata": {},
   "outputs": [],
   "source": []
  },
  {
   "cell_type": "code",
   "execution_count": null,
   "id": "9bfc62d8-2c8a-4a0f-a2bf-4a927a63e39b",
   "metadata": {},
   "outputs": [],
   "source": []
  },
  {
   "cell_type": "code",
   "execution_count": null,
   "id": "123b27c9-6748-43f7-906a-f36969e5aeb5",
   "metadata": {},
   "outputs": [],
   "source": []
  },
  {
   "cell_type": "code",
   "execution_count": null,
   "id": "223098bb-6860-4148-ac5f-c0e6534eb025",
   "metadata": {},
   "outputs": [],
   "source": []
  },
  {
   "cell_type": "code",
   "execution_count": null,
   "id": "425aded7-bd99-469e-8d4e-239f252affe5",
   "metadata": {},
   "outputs": [],
   "source": []
  },
  {
   "cell_type": "code",
   "execution_count": null,
   "id": "962d886d-0144-49a6-8a0b-157b4857eabb",
   "metadata": {},
   "outputs": [],
   "source": []
  },
  {
   "cell_type": "code",
   "execution_count": null,
   "id": "93ba87e3-cf89-4c80-aff0-a999c7c54e57",
   "metadata": {},
   "outputs": [],
   "source": []
  }
 ],
 "metadata": {
  "kernelspec": {
   "display_name": "Python 3 (ipykernel)",
   "language": "python",
   "name": "python3"
  },
  "language_info": {
   "codemirror_mode": {
    "name": "ipython",
    "version": 3
   },
   "file_extension": ".py",
   "mimetype": "text/x-python",
   "name": "python",
   "nbconvert_exporter": "python",
   "pygments_lexer": "ipython3",
   "version": "3.11.10"
  }
 },
 "nbformat": 4,
 "nbformat_minor": 5
}
